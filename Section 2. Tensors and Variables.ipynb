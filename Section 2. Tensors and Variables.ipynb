{
 "cells": [
  {
   "cell_type": "code",
   "execution_count": 1,
   "id": "6a3a057f",
   "metadata": {},
   "outputs": [],
   "source": [
    "import tensorflow as tf\n",
    "import numpy as np"
   ]
  },
  {
   "cell_type": "markdown",
   "id": "64f17288",
   "metadata": {},
   "source": [
    "# Tensor Initialization and Casting"
   ]
  },
  {
   "cell_type": "markdown",
   "id": "e5763536",
   "metadata": {},
   "source": [
    "### Constant"
   ]
  },
  {
   "cell_type": "code",
   "execution_count": null,
   "id": "90af0f61",
   "metadata": {},
   "outputs": [],
   "source": [
    "tensor_zero_d = tf.constant(4)\n",
    "tensor_zero_d"
   ]
  },
  {
   "cell_type": "code",
   "execution_count": null,
   "id": "27b8c554",
   "metadata": {},
   "outputs": [],
   "source": [
    "tensor_one_d = tf.constant([2, 0, -3])\n",
    "tensor_one_d"
   ]
  },
  {
   "cell_type": "code",
   "execution_count": null,
   "id": "4eada8d7",
   "metadata": {},
   "outputs": [],
   "source": [
    "tensor_two_d = tf.constant([\n",
    "    [1, 2, 0],\n",
    "    [3,5,-1]\n",
    "])\n",
    "tensor_two_d"
   ]
  },
  {
   "cell_type": "markdown",
   "id": "1cd7c9cd",
   "metadata": {},
   "source": [
    "### ndim, shape, size"
   ]
  },
  {
   "cell_type": "code",
   "execution_count": null,
   "id": "d48f7545",
   "metadata": {},
   "outputs": [],
   "source": [
    "tensor_two_d.ndim"
   ]
  },
  {
   "cell_type": "code",
   "execution_count": null,
   "id": "f1f57f34",
   "metadata": {},
   "outputs": [],
   "source": [
    "tensor_two_d.shape"
   ]
  },
  {
   "cell_type": "code",
   "execution_count": null,
   "id": "a20d6d25",
   "metadata": {},
   "outputs": [],
   "source": [
    "tf.size(tensor_two_d)"
   ]
  },
  {
   "cell_type": "markdown",
   "id": "684d4f86",
   "metadata": {},
   "source": [
    "### Create with type"
   ]
  },
  {
   "cell_type": "code",
   "execution_count": null,
   "id": "5320cd0c",
   "metadata": {},
   "outputs": [],
   "source": [
    "tensor_two_d = tf.constant([\n",
    "    [1, 2, 0],\n",
    "    [3,5,-1]\n",
    "], dtype=tf.float32)\n",
    "tensor_two_d"
   ]
  },
  {
   "cell_type": "markdown",
   "id": "aefb5d96",
   "metadata": {},
   "source": [
    "### casting"
   ]
  },
  {
   "cell_type": "code",
   "execution_count": null,
   "id": "e935edb0",
   "metadata": {},
   "outputs": [],
   "source": [
    "casted_tensor_one_d = tf.cast(tensor_one_d, dtype=tf.float32)\n",
    "casted_tensor_one_d"
   ]
  },
  {
   "cell_type": "markdown",
   "id": "f7f0a911",
   "metadata": {},
   "source": [
    "### numpy array to tensor"
   ]
  },
  {
   "cell_type": "code",
   "execution_count": null,
   "id": "7feddb0e",
   "metadata": {},
   "outputs": [],
   "source": [
    "np_array = np.array([1, 2, 4])\n",
    "np_array"
   ]
  },
  {
   "cell_type": "code",
   "execution_count": null,
   "id": "4557fda1",
   "metadata": {},
   "outputs": [],
   "source": [
    "converted_tensor = tf.convert_to_tensor(np_array)\n",
    "converted_tensor"
   ]
  },
  {
   "cell_type": "markdown",
   "id": "75cb2ccb",
   "metadata": {},
   "source": [
    "### eye, fill, ones, ones_like, zeros, zeros_likea"
   ]
  },
  {
   "cell_type": "code",
   "execution_count": null,
   "id": "5e2e3470",
   "metadata": {},
   "outputs": [],
   "source": [
    "tf.eye(3)"
   ]
  },
  {
   "cell_type": "code",
   "execution_count": null,
   "id": "0e55b565",
   "metadata": {},
   "outputs": [],
   "source": [
    "tf.fill([2, 3], 9)"
   ]
  },
  {
   "cell_type": "code",
   "execution_count": null,
   "id": "1d774994",
   "metadata": {},
   "outputs": [],
   "source": [
    "tf.ones([2, 3])"
   ]
  },
  {
   "cell_type": "code",
   "execution_count": null,
   "id": "14917dea",
   "metadata": {},
   "outputs": [],
   "source": [
    "tf.zeros([2, 3])"
   ]
  },
  {
   "cell_type": "markdown",
   "id": "478d5d1a",
   "metadata": {},
   "source": [
    "### random"
   ]
  },
  {
   "cell_type": "code",
   "execution_count": null,
   "id": "2455b502",
   "metadata": {},
   "outputs": [],
   "source": [
    "tf.random.normal([2, 3])"
   ]
  },
  {
   "cell_type": "code",
   "execution_count": null,
   "id": "85d0aeb9",
   "metadata": {},
   "outputs": [],
   "source": [
    "tf.random.uniform([2, 3])"
   ]
  },
  {
   "cell_type": "markdown",
   "id": "b1558bba",
   "metadata": {},
   "source": [
    "#### seed"
   ]
  },
  {
   "cell_type": "code",
   "execution_count": null,
   "id": "eb42c5ad",
   "metadata": {},
   "outputs": [],
   "source": [
    "tf.random.set_seed(42)\n",
    "print(tf.random.normal([2, 3]))\n",
    "\n",
    "tf.random.set_seed(42)\n",
    "print(tf.random.normal([2, 3]))"
   ]
  },
  {
   "cell_type": "markdown",
   "id": "9d5fba51",
   "metadata": {},
   "source": [
    "# Indexing (Slicing)"
   ]
  },
  {
   "cell_type": "code",
   "execution_count": null,
   "id": "2ac60624",
   "metadata": {},
   "outputs": [],
   "source": [
    "t = tf.constant([3, 6, 2, 4, 6, 66, 7])\n",
    "t"
   ]
  },
  {
   "cell_type": "code",
   "execution_count": null,
   "id": "82b234db",
   "metadata": {},
   "outputs": [],
   "source": [
    "t[1: 4]"
   ]
  },
  {
   "cell_type": "code",
   "execution_count": null,
   "id": "7656d781",
   "metadata": {},
   "outputs": [],
   "source": [
    "t[1: 4: 2]"
   ]
  },
  {
   "cell_type": "markdown",
   "id": "5b964777",
   "metadata": {},
   "source": [
    "### ..."
   ]
  },
  {
   "cell_type": "code",
   "execution_count": null,
   "id": "3cc9282f",
   "metadata": {},
   "outputs": [],
   "source": [
    "t = tf.random.uniform([4, 2, 3], minval=0, maxval=100, dtype=tf.int32)\n",
    "t"
   ]
  },
  {
   "cell_type": "code",
   "execution_count": null,
   "id": "59215683",
   "metadata": {},
   "outputs": [],
   "source": [
    "t[..., 1]"
   ]
  },
  {
   "cell_type": "code",
   "execution_count": null,
   "id": "259f9aca",
   "metadata": {},
   "outputs": [],
   "source": [
    "t[:, :, 1]"
   ]
  },
  {
   "cell_type": "markdown",
   "id": "e2e78a6c",
   "metadata": {},
   "source": [
    "# Linear Algebra Operations"
   ]
  },
  {
   "cell_type": "markdown",
   "id": "b9f2100d",
   "metadata": {},
   "source": [
    "### [tf.linalg module](https://www.tensorflow.org/api_docs/python/tf/linalg)"
   ]
  },
  {
   "cell_type": "markdown",
   "id": "cd632b53",
   "metadata": {},
   "source": [
    "### tf.linalg.matmul with Matrix with Batch Dimension (3-dim)"
   ]
  },
  {
   "cell_type": "code",
   "execution_count": 2,
   "id": "af0b6955",
   "metadata": {},
   "outputs": [
    {
     "name": "stdout",
     "output_type": "stream",
     "text": [
      "Metal device set to: Apple M1 Max\n"
     ]
    },
    {
     "name": "stderr",
     "output_type": "stream",
     "text": [
      "2023-10-19 09:34:01.887932: I tensorflow/core/common_runtime/pluggable_device/pluggable_device_factory.cc:305] Could not identify NUMA node of platform GPU ID 0, defaulting to 0. Your kernel may not have been built with NUMA support.\n",
      "2023-10-19 09:34:01.894821: I tensorflow/core/common_runtime/pluggable_device/pluggable_device_factory.cc:271] Created TensorFlow device (/job:localhost/replica:0/task:0/device:GPU:0 with 0 MB memory) -> physical PluggableDevice (device: 0, name: METAL, pci bus id: <undefined>)\n"
     ]
    }
   ],
   "source": [
    "x1 = tf.random.normal([3, 2, 3])\n",
    "x2 = tf.random.normal([3, 2, 3])"
   ]
  },
  {
   "cell_type": "code",
   "execution_count": 6,
   "id": "9f8172f3",
   "metadata": {},
   "outputs": [
    {
     "data": {
      "text/plain": [
       "<tf.Tensor: shape=(3, 3, 3), dtype=float32, numpy=\n",
       "array([[[-3.330759  , -0.9333693 ,  2.0767367 ],\n",
       "        [ 1.7682849 ,  0.6414715 , -1.1990327 ],\n",
       "        [ 1.8185508 ,  1.5894356 , -1.8478574 ]],\n",
       "\n",
       "       [[ 2.326621  ,  0.9110201 ,  0.43098068],\n",
       "        [-0.8021616 , -0.24001458,  0.07046518],\n",
       "        [-3.4481125 , -1.1116396 ,  0.06654787]],\n",
       "\n",
       "       [[ 1.1427337 , -0.67321956,  1.0959303 ],\n",
       "        [ 1.6140544 , -0.10834458,  1.0024302 ],\n",
       "        [-0.5019271 , -0.3509419 , -0.0626919 ]]], dtype=float32)>"
      ]
     },
     "execution_count": 6,
     "metadata": {},
     "output_type": "execute_result"
    }
   ],
   "source": [
    "tf.linalg.matmul(x1, x2, transpose_a=True)"
   ]
  },
  {
   "cell_type": "markdown",
   "id": "4a8343b6",
   "metadata": {},
   "source": [
    "### adjoint : Transpose and conjugate\n",
    "### band_part : Set some elements to zero according to condition"
   ]
  },
  {
   "cell_type": "markdown",
   "id": "994faf3a",
   "metadata": {},
   "source": [
    "# Ragged Tensors"
   ]
  },
  {
   "cell_type": "markdown",
   "id": "46f1c861",
   "metadata": {},
   "source": [
    "다양한 길이의 vector를 하나의 tensor에 저장"
   ]
  },
  {
   "cell_type": "code",
   "execution_count": 8,
   "id": "6d30ff34",
   "metadata": {},
   "outputs": [
    {
     "data": {
      "text/plain": [
       "<tf.RaggedTensor [[1, 2, 0], [3], [1, 5, 6, 5, 6], [2, 3]]>"
      ]
     },
     "execution_count": 8,
     "metadata": {},
     "output_type": "execute_result"
    }
   ],
   "source": [
    "tensor_ragged = tf.ragged.constant([[1,2,0],\n",
    "                                    [3],\n",
    "                                    [1,5,6,5,6],\n",
    "                                    [2,3]])\n",
    "tensor_ragged"
   ]
  },
  {
   "cell_type": "markdown",
   "id": "88255658",
   "metadata": {},
   "source": [
    "# Sparse Tensors"
   ]
  },
  {
   "cell_type": "markdown",
   "id": "6af32da0",
   "metadata": {},
   "source": [
    "# String Tensors"
   ]
  },
  {
   "cell_type": "code",
   "execution_count": 11,
   "id": "6de55ad1",
   "metadata": {},
   "outputs": [
    {
     "data": {
      "text/plain": [
       "<tf.Tensor: shape=(3,), dtype=string, numpy=array([b'Hello', b'I am', b'a string'], dtype=object)>"
      ]
     },
     "execution_count": 11,
     "metadata": {},
     "output_type": "execute_result"
    }
   ],
   "source": [
    "tensor_string = tf.constant([\"Hello\", \"I am\", \"a string\"])\n",
    "tensor_string"
   ]
  },
  {
   "cell_type": "markdown",
   "id": "ed0fd626",
   "metadata": {},
   "source": [
    "# Variables"
   ]
  },
  {
   "cell_type": "markdown",
   "id": "0bf3a40e",
   "metadata": {},
   "source": [
    "### initialize"
   ]
  },
  {
   "cell_type": "code",
   "execution_count": 13,
   "id": "59f49135",
   "metadata": {},
   "outputs": [
    {
     "data": {
      "text/plain": [
       "<tf.Variable 'Variable:0' shape=(2,) dtype=int32, numpy=array([1, 2], dtype=int32)>"
      ]
     },
     "execution_count": 13,
     "metadata": {},
     "output_type": "execute_result"
    }
   ],
   "source": [
    "x_var = tf.Variable([1, 2])\n",
    "x_var"
   ]
  },
  {
   "cell_type": "code",
   "execution_count": 14,
   "id": "dcf70406",
   "metadata": {},
   "outputs": [
    {
     "data": {
      "text/plain": [
       "<tf.Variable 'Variable:0' shape=(2,) dtype=int32, numpy=array([1, 2], dtype=int32)>"
      ]
     },
     "execution_count": 14,
     "metadata": {},
     "output_type": "execute_result"
    }
   ],
   "source": [
    "x_var = tf.Variable(tf.constant([1, 2]))\n",
    "x_var"
   ]
  },
  {
   "cell_type": "markdown",
   "id": "d474fe6d",
   "metadata": {},
   "source": [
    "### assign"
   ]
  },
  {
   "cell_type": "code",
   "execution_count": 15,
   "id": "f740fbb8",
   "metadata": {},
   "outputs": [
    {
     "name": "stdout",
     "output_type": "stream",
     "text": [
      "<tf.Variable 'Variable:0' shape=() dtype=float32, numpy=2.0>\n",
      "<tf.Variable 'Variable:0' shape=() dtype=float32, numpy=0.5>\n"
     ]
    }
   ],
   "source": [
    "v = tf.Variable(1.)\n",
    "v.assign(2.)\n",
    "print(v)\n",
    "v.assign(0.5)\n",
    "print(v)"
   ]
  },
  {
   "cell_type": "markdown",
   "id": "f9f03052",
   "metadata": {},
   "source": [
    "### CPU or GPU"
   ]
  },
  {
   "cell_type": "code",
   "execution_count": 16,
   "id": "a5b48377",
   "metadata": {},
   "outputs": [
    {
     "data": {
      "text/plain": [
       "'/job:localhost/replica:0/task:0/device:GPU:0'"
      ]
     },
     "execution_count": 16,
     "metadata": {},
     "output_type": "execute_result"
    }
   ],
   "source": [
    "v.device"
   ]
  },
  {
   "cell_type": "code",
   "execution_count": 18,
   "id": "6abd4dae",
   "metadata": {},
   "outputs": [
    {
     "name": "stdout",
     "output_type": "stream",
     "text": [
      "/job:localhost/replica:0/task:0/device:GPU:0\n",
      "/job:localhost/replica:0/task:0/device:CPU:0\n"
     ]
    }
   ],
   "source": [
    "with tf.device(\"GPU:0\"):\n",
    "    x_var = tf.constant([1, 2])\n",
    "    print(x_var.device)\n",
    "    \n",
    "with tf.device(\"CPU:0\"):\n",
    "    x_var = tf.constant([1, 2])\n",
    "    print(x_var.device)"
   ]
  },
  {
   "cell_type": "code",
   "execution_count": 19,
   "id": "c9d81125",
   "metadata": {},
   "outputs": [
    {
     "name": "stdout",
     "output_type": "stream",
     "text": [
      "tf.Tensor([1 2 3], shape=(3,), dtype=int32) /job:localhost/replica:0/task:0/device:CPU:0\n",
      "tf.Tensor([1], shape=(1,), dtype=int32) /job:localhost/replica:0/task:0/device:CPU:0\n",
      "tf.Tensor([2 3 4], shape=(3,), dtype=int32) /job:localhost/replica:0/task:0/device:GPU:0\n"
     ]
    }
   ],
   "source": [
    "with tf.device(\"CPU:0\"):\n",
    "    x1 = tf.constant([1, 2, 3])\n",
    "    x2 = tf.constant([1])\n",
    "    \n",
    "with tf.device(\"GPU:0\"):\n",
    "    x3 = x1 + x2\n",
    "    \n",
    "print(x1, x1.device)\n",
    "print(x2, x2.device)\n",
    "print(x3, x3.device)"
   ]
  },
  {
   "cell_type": "code",
   "execution_count": null,
   "id": "c1738eb6",
   "metadata": {},
   "outputs": [],
   "source": []
  }
 ],
 "metadata": {
  "kernelspec": {
   "display_name": "Python 3 (ipykernel)",
   "language": "python",
   "name": "python3"
  },
  "language_info": {
   "codemirror_mode": {
    "name": "ipython",
    "version": 3
   },
   "file_extension": ".py",
   "mimetype": "text/x-python",
   "name": "python",
   "nbconvert_exporter": "python",
   "pygments_lexer": "ipython3",
   "version": "3.9.18"
  },
  "toc": {
   "base_numbering": 1,
   "nav_menu": {},
   "number_sections": true,
   "sideBar": true,
   "skip_h1_title": false,
   "title_cell": "Table of Contents",
   "title_sidebar": "Contents",
   "toc_cell": false,
   "toc_position": {},
   "toc_section_display": true,
   "toc_window_display": false
  }
 },
 "nbformat": 4,
 "nbformat_minor": 5
}
