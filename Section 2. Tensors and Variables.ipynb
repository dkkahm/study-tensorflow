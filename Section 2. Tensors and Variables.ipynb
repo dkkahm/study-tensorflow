{
 "cells": [
  {
   "cell_type": "code",
   "execution_count": 22,
   "id": "6a3a057f",
   "metadata": {},
   "outputs": [],
   "source": [
    "import tensorflow as tf\n",
    "import numpy as np"
   ]
  },
  {
   "cell_type": "markdown",
   "id": "64f17288",
   "metadata": {},
   "source": [
    "# Tensor Initialization and Casting"
   ]
  },
  {
   "cell_type": "markdown",
   "id": "e5763536",
   "metadata": {},
   "source": [
    "### Constant"
   ]
  },
  {
   "cell_type": "code",
   "execution_count": 14,
   "id": "90af0f61",
   "metadata": {},
   "outputs": [
    {
     "data": {
      "text/plain": [
       "<tf.Tensor: shape=(), dtype=int32, numpy=4>"
      ]
     },
     "execution_count": 14,
     "metadata": {},
     "output_type": "execute_result"
    }
   ],
   "source": [
    "tensor_zero_d = tf.constant(4)\n",
    "tensor_zero_d"
   ]
  },
  {
   "cell_type": "code",
   "execution_count": 16,
   "id": "27b8c554",
   "metadata": {},
   "outputs": [
    {
     "data": {
      "text/plain": [
       "<tf.Tensor: shape=(3,), dtype=int32, numpy=array([ 2,  0, -3], dtype=int32)>"
      ]
     },
     "execution_count": 16,
     "metadata": {},
     "output_type": "execute_result"
    }
   ],
   "source": [
    "tensor_one_d = tf.constant([2, 0, -3])\n",
    "tensor_one_d"
   ]
  },
  {
   "cell_type": "code",
   "execution_count": 18,
   "id": "4eada8d7",
   "metadata": {},
   "outputs": [
    {
     "data": {
      "text/plain": [
       "<tf.Tensor: shape=(2, 3), dtype=int32, numpy=\n",
       "array([[ 1,  2,  0],\n",
       "       [ 3,  5, -1]], dtype=int32)>"
      ]
     },
     "execution_count": 18,
     "metadata": {},
     "output_type": "execute_result"
    }
   ],
   "source": [
    "tensor_two_d = tf.constant([\n",
    "    [1, 2, 0],\n",
    "    [3,5,-1]\n",
    "])\n",
    "tensor_two_d"
   ]
  },
  {
   "cell_type": "markdown",
   "id": "1cd7c9cd",
   "metadata": {},
   "source": [
    "### ndim, shape, size"
   ]
  },
  {
   "cell_type": "code",
   "execution_count": 19,
   "id": "d48f7545",
   "metadata": {},
   "outputs": [
    {
     "data": {
      "text/plain": [
       "2"
      ]
     },
     "execution_count": 19,
     "metadata": {},
     "output_type": "execute_result"
    }
   ],
   "source": [
    "tensor_two_d.ndim"
   ]
  },
  {
   "cell_type": "code",
   "execution_count": 33,
   "id": "f1f57f34",
   "metadata": {},
   "outputs": [
    {
     "data": {
      "text/plain": [
       "TensorShape([2, 3])"
      ]
     },
     "execution_count": 33,
     "metadata": {},
     "output_type": "execute_result"
    }
   ],
   "source": [
    "tensor_two_d.shape"
   ]
  },
  {
   "cell_type": "code",
   "execution_count": 34,
   "id": "a20d6d25",
   "metadata": {},
   "outputs": [
    {
     "data": {
      "text/plain": [
       "<tf.Tensor: shape=(), dtype=int32, numpy=6>"
      ]
     },
     "execution_count": 34,
     "metadata": {},
     "output_type": "execute_result"
    }
   ],
   "source": [
    "tf.size(tensor_two_d)"
   ]
  },
  {
   "cell_type": "markdown",
   "id": "684d4f86",
   "metadata": {},
   "source": [
    "### Create with type"
   ]
  },
  {
   "cell_type": "code",
   "execution_count": 20,
   "id": "5320cd0c",
   "metadata": {},
   "outputs": [
    {
     "data": {
      "text/plain": [
       "<tf.Tensor: shape=(2, 3), dtype=float32, numpy=\n",
       "array([[ 1.,  2.,  0.],\n",
       "       [ 3.,  5., -1.]], dtype=float32)>"
      ]
     },
     "execution_count": 20,
     "metadata": {},
     "output_type": "execute_result"
    }
   ],
   "source": [
    "tensor_two_d = tf.constant([\n",
    "    [1, 2, 0],\n",
    "    [3,5,-1]\n",
    "], dtype=tf.float32)\n",
    "tensor_two_d"
   ]
  },
  {
   "cell_type": "markdown",
   "id": "aefb5d96",
   "metadata": {},
   "source": [
    "### casting"
   ]
  },
  {
   "cell_type": "code",
   "execution_count": 21,
   "id": "e935edb0",
   "metadata": {},
   "outputs": [
    {
     "data": {
      "text/plain": [
       "<tf.Tensor: shape=(3,), dtype=float32, numpy=array([ 2.,  0., -3.], dtype=float32)>"
      ]
     },
     "execution_count": 21,
     "metadata": {},
     "output_type": "execute_result"
    }
   ],
   "source": [
    "casted_tensor_one_d = tf.cast(tensor_one_d, dtype=tf.float32)\n",
    "casted_tensor_one_d"
   ]
  },
  {
   "cell_type": "markdown",
   "id": "f7f0a911",
   "metadata": {},
   "source": [
    "### numpy array to tensor"
   ]
  },
  {
   "cell_type": "code",
   "execution_count": 23,
   "id": "7feddb0e",
   "metadata": {},
   "outputs": [
    {
     "data": {
      "text/plain": [
       "array([1, 2, 4])"
      ]
     },
     "execution_count": 23,
     "metadata": {},
     "output_type": "execute_result"
    }
   ],
   "source": [
    "np_array = np.array([1, 2, 4])\n",
    "np_array"
   ]
  },
  {
   "cell_type": "code",
   "execution_count": 24,
   "id": "4557fda1",
   "metadata": {},
   "outputs": [
    {
     "data": {
      "text/plain": [
       "<tf.Tensor: shape=(3,), dtype=int64, numpy=array([1, 2, 4])>"
      ]
     },
     "execution_count": 24,
     "metadata": {},
     "output_type": "execute_result"
    }
   ],
   "source": [
    "converted_tensor = tf.convert_to_tensor(np_array)\n",
    "converted_tensor"
   ]
  },
  {
   "cell_type": "markdown",
   "id": "75cb2ccb",
   "metadata": {},
   "source": [
    "### eye, fill, ones, ones_like, zeros, zeros_likea"
   ]
  },
  {
   "cell_type": "code",
   "execution_count": 27,
   "id": "5e2e3470",
   "metadata": {},
   "outputs": [
    {
     "data": {
      "text/plain": [
       "<tf.Tensor: shape=(3, 3), dtype=float32, numpy=\n",
       "array([[1., 0., 0.],\n",
       "       [0., 1., 0.],\n",
       "       [0., 0., 1.]], dtype=float32)>"
      ]
     },
     "execution_count": 27,
     "metadata": {},
     "output_type": "execute_result"
    }
   ],
   "source": [
    "tf.eye(3)"
   ]
  },
  {
   "cell_type": "code",
   "execution_count": 28,
   "id": "0e55b565",
   "metadata": {},
   "outputs": [
    {
     "data": {
      "text/plain": [
       "<tf.Tensor: shape=(2, 3), dtype=int32, numpy=\n",
       "array([[9, 9, 9],\n",
       "       [9, 9, 9]], dtype=int32)>"
      ]
     },
     "execution_count": 28,
     "metadata": {},
     "output_type": "execute_result"
    }
   ],
   "source": [
    "tf.fill([2, 3], 9)"
   ]
  },
  {
   "cell_type": "code",
   "execution_count": 29,
   "id": "1d774994",
   "metadata": {},
   "outputs": [
    {
     "data": {
      "text/plain": [
       "<tf.Tensor: shape=(2, 3), dtype=float32, numpy=\n",
       "array([[1., 1., 1.],\n",
       "       [1., 1., 1.]], dtype=float32)>"
      ]
     },
     "execution_count": 29,
     "metadata": {},
     "output_type": "execute_result"
    }
   ],
   "source": [
    "tf.ones([2, 3])"
   ]
  },
  {
   "cell_type": "code",
   "execution_count": 30,
   "id": "14917dea",
   "metadata": {},
   "outputs": [
    {
     "data": {
      "text/plain": [
       "<tf.Tensor: shape=(2, 3), dtype=float32, numpy=\n",
       "array([[0., 0., 0.],\n",
       "       [0., 0., 0.]], dtype=float32)>"
      ]
     },
     "execution_count": 30,
     "metadata": {},
     "output_type": "execute_result"
    }
   ],
   "source": [
    "tf.zeros([2, 3])"
   ]
  },
  {
   "cell_type": "markdown",
   "id": "478d5d1a",
   "metadata": {},
   "source": [
    "### random"
   ]
  },
  {
   "cell_type": "code",
   "execution_count": 35,
   "id": "2455b502",
   "metadata": {},
   "outputs": [
    {
     "data": {
      "text/plain": [
       "<tf.Tensor: shape=(2, 3), dtype=float32, numpy=\n",
       "array([[-0.7474821 , -0.43480277, -2.3380415 ],\n",
       "       [ 1.4921113 , -0.02339826,  0.65085155]], dtype=float32)>"
      ]
     },
     "execution_count": 35,
     "metadata": {},
     "output_type": "execute_result"
    }
   ],
   "source": [
    "tf.random.normal([2, 3])"
   ]
  },
  {
   "cell_type": "code",
   "execution_count": 36,
   "id": "85d0aeb9",
   "metadata": {},
   "outputs": [
    {
     "data": {
      "text/plain": [
       "<tf.Tensor: shape=(2, 3), dtype=float32, numpy=\n",
       "array([[0.1492256 , 0.6199831 , 0.46032953],\n",
       "       [0.3097217 , 0.5305011 , 0.1192795 ]], dtype=float32)>"
      ]
     },
     "execution_count": 36,
     "metadata": {},
     "output_type": "execute_result"
    }
   ],
   "source": [
    "tf.random.uniform([2, 3])"
   ]
  },
  {
   "cell_type": "markdown",
   "id": "b1558bba",
   "metadata": {},
   "source": [
    "#### seed"
   ]
  },
  {
   "cell_type": "code",
   "execution_count": 37,
   "id": "eb42c5ad",
   "metadata": {},
   "outputs": [
    {
     "name": "stdout",
     "output_type": "stream",
     "text": [
      "tf.Tensor(\n",
      "[[ 0.3274685 -0.8426258  0.3194337]\n",
      " [-1.4075519 -2.3880599 -1.0392479]], shape=(2, 3), dtype=float32)\n",
      "tf.Tensor(\n",
      "[[ 0.3274685 -0.8426258  0.3194337]\n",
      " [-1.4075519 -2.3880599 -1.0392479]], shape=(2, 3), dtype=float32)\n"
     ]
    }
   ],
   "source": [
    "tf.random.set_seed(42)\n",
    "print(tf.random.normal([2, 3]))\n",
    "\n",
    "tf.random.set_seed(42)\n",
    "print(tf.random.normal([2, 3]))"
   ]
  },
  {
   "cell_type": "markdown",
   "id": "9d5fba51",
   "metadata": {},
   "source": [
    "# Indexing (Slicing)"
   ]
  },
  {
   "cell_type": "code",
   "execution_count": 38,
   "id": "2ac60624",
   "metadata": {},
   "outputs": [
    {
     "data": {
      "text/plain": [
       "<tf.Tensor: shape=(7,), dtype=int32, numpy=array([ 3,  6,  2,  4,  6, 66,  7], dtype=int32)>"
      ]
     },
     "execution_count": 38,
     "metadata": {},
     "output_type": "execute_result"
    }
   ],
   "source": [
    "t = tf.constant([3, 6, 2, 4, 6, 66, 7])\n",
    "t"
   ]
  },
  {
   "cell_type": "code",
   "execution_count": 39,
   "id": "82b234db",
   "metadata": {},
   "outputs": [
    {
     "data": {
      "text/plain": [
       "<tf.Tensor: shape=(3,), dtype=int32, numpy=array([6, 2, 4], dtype=int32)>"
      ]
     },
     "execution_count": 39,
     "metadata": {},
     "output_type": "execute_result"
    }
   ],
   "source": [
    "t[1: 4]"
   ]
  },
  {
   "cell_type": "code",
   "execution_count": 44,
   "id": "7656d781",
   "metadata": {},
   "outputs": [
    {
     "data": {
      "text/plain": [
       "<tf.Tensor: shape=(2,), dtype=int32, numpy=array([6, 4], dtype=int32)>"
      ]
     },
     "execution_count": 44,
     "metadata": {},
     "output_type": "execute_result"
    }
   ],
   "source": [
    "t[1: 4: 2]"
   ]
  },
  {
   "cell_type": "markdown",
   "id": "5b964777",
   "metadata": {},
   "source": [
    "### ..."
   ]
  },
  {
   "cell_type": "code",
   "execution_count": 52,
   "id": "3cc9282f",
   "metadata": {},
   "outputs": [
    {
     "data": {
      "text/plain": [
       "<tf.Tensor: shape=(4, 2, 3), dtype=int32, numpy=\n",
       "array([[[98, 43, 19],\n",
       "        [94, 32, 13]],\n",
       "\n",
       "       [[84, 42, 86],\n",
       "        [24, 81, 63]],\n",
       "\n",
       "       [[46,  0, 69],\n",
       "        [69,  0, 81]],\n",
       "\n",
       "       [[24, 97, 80],\n",
       "        [18, 41, 96]]], dtype=int32)>"
      ]
     },
     "execution_count": 52,
     "metadata": {},
     "output_type": "execute_result"
    }
   ],
   "source": [
    "t = tf.random.uniform([4, 2, 3], minval=0, maxval=100, dtype=tf.int32)\n",
    "t"
   ]
  },
  {
   "cell_type": "code",
   "execution_count": 53,
   "id": "59215683",
   "metadata": {},
   "outputs": [
    {
     "data": {
      "text/plain": [
       "<tf.Tensor: shape=(4, 2), dtype=int32, numpy=\n",
       "array([[43, 32],\n",
       "       [42, 81],\n",
       "       [ 0,  0],\n",
       "       [97, 41]], dtype=int32)>"
      ]
     },
     "execution_count": 53,
     "metadata": {},
     "output_type": "execute_result"
    }
   ],
   "source": [
    "t[..., 1]"
   ]
  },
  {
   "cell_type": "code",
   "execution_count": 55,
   "id": "259f9aca",
   "metadata": {},
   "outputs": [
    {
     "data": {
      "text/plain": [
       "<tf.Tensor: shape=(4, 2), dtype=int32, numpy=\n",
       "array([[43, 32],\n",
       "       [42, 81],\n",
       "       [ 0,  0],\n",
       "       [97, 41]], dtype=int32)>"
      ]
     },
     "execution_count": 55,
     "metadata": {},
     "output_type": "execute_result"
    }
   ],
   "source": [
    "t[:, :, 1]"
   ]
  },
  {
   "cell_type": "code",
   "execution_count": null,
   "id": "c4df93e1",
   "metadata": {},
   "outputs": [],
   "source": []
  }
 ],
 "metadata": {
  "kernelspec": {
   "display_name": "Python 3 (ipykernel)",
   "language": "python",
   "name": "python3"
  },
  "language_info": {
   "codemirror_mode": {
    "name": "ipython",
    "version": 3
   },
   "file_extension": ".py",
   "mimetype": "text/x-python",
   "name": "python",
   "nbconvert_exporter": "python",
   "pygments_lexer": "ipython3",
   "version": "3.9.18"
  },
  "toc": {
   "base_numbering": 1,
   "nav_menu": {},
   "number_sections": true,
   "sideBar": true,
   "skip_h1_title": false,
   "title_cell": "Table of Contents",
   "title_sidebar": "Contents",
   "toc_cell": false,
   "toc_position": {},
   "toc_section_display": true,
   "toc_window_display": false
  }
 },
 "nbformat": 4,
 "nbformat_minor": 5
}
