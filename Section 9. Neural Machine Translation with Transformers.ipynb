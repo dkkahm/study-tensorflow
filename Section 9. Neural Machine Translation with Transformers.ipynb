{
 "cells": [
  {
   "cell_type": "code",
   "execution_count": 55,
   "id": "97546f3c",
   "metadata": {},
   "outputs": [],
   "source": [
    "import tensorflow as tf\n",
    "# tf.config.run_functions_eagerly(True)\n",
    "import numpy as np\n",
    "import pandas as pd\n",
    "import matplotlib.pyplot as plt\n",
    "import sklearn\n",
    "import cv2\n",
    "from sklearn.metrics import confusion_matrix, roc_curve\n",
    "import seaborn\n",
    "import datetime, pathlib, io, os, time, random, re, string\n",
    "import gensim.downloader as api\n",
    "from PIL import Image\n",
    "import tensorflow_datasets as tfds\n",
    "import tensorflow_probability as tfp\n",
    "from tensorflow.keras.models import Model\n",
    "from tensorflow.keras.layers import Layer\n",
    "from tensorflow.keras.layers import Dense, Flatten, InputLayer, BatchNormalization, Input, Embedding, TextVectorization\n",
    "from tensorflow.keras.layers import SimpleRNN, LSTM, GRU, Bidirectional, Dropout, Conv1D, MultiHeadAttention, LayerNormalization\n",
    "from tensorflow.keras.losses import BinaryCrossentropy, CategoricalCrossentropy, SparseCategoricalCrossentropy\n",
    "from tensorflow.keras.metrics import Accuracy, TopKCategoricalAccuracy, CategoricalAccuracy, SparseCategoricalAccuracy\n",
    "from tensorflow.keras.optimizers import Adam\n",
    "from tensorboard.plugins import projector\n",
    "import traceback"
   ]
  },
  {
   "cell_type": "markdown",
   "id": "8e4bdd71-10b1-4028-9ca8-3fd70e6bb231",
   "metadata": {},
   "source": [
    "# Dataset"
   ]
  },
  {
   "cell_type": "code",
   "execution_count": 2,
   "id": "df776b63",
   "metadata": {},
   "outputs": [],
   "source": [
    "# !wget https://www.manythings.org/anki/fra-eng.zip"
   ]
  },
  {
   "cell_type": "markdown",
   "id": "2ff85755",
   "metadata": {},
   "source": [
    "# Data Processing"
   ]
  },
  {
   "cell_type": "code",
   "execution_count": 3,
   "id": "e8c8fe0f",
   "metadata": {},
   "outputs": [
    {
     "name": "stderr",
     "output_type": "stream",
     "text": [
      "2023-10-26 12:13:13.484468: I metal_plugin/src/device/metal_device.cc:1154] Metal device set to: Apple M1 Max\n",
      "2023-10-26 12:13:13.484496: I metal_plugin/src/device/metal_device.cc:296] systemMemory: 64.00 GB\n",
      "2023-10-26 12:13:13.484500: I metal_plugin/src/device/metal_device.cc:313] maxCacheSize: 24.00 GB\n",
      "2023-10-26 12:13:13.484540: I tensorflow/core/common_runtime/pluggable_device/pluggable_device_factory.cc:306] Could not identify NUMA node of platform GPU ID 0, defaulting to 0. Your kernel may not have been built with NUMA support.\n",
      "2023-10-26 12:13:13.484556: I tensorflow/core/common_runtime/pluggable_device/pluggable_device_factory.cc:272] Created TensorFlow device (/job:localhost/replica:0/task:0/device:GPU:0 with 0 MB memory) -> physical PluggableDevice (device: 0, name: METAL, pci bus id: <undefined>)\n"
     ]
    },
    {
     "data": {
      "text/plain": [
       "<TextLineDatasetV2 element_spec=TensorSpec(shape=(), dtype=tf.string, name=None)>"
      ]
     },
     "execution_count": 3,
     "metadata": {},
     "output_type": "execute_result"
    }
   ],
   "source": [
    "text_dataset = tf.data.TextLineDataset(\"localdata/Section7/fra.txt\")\n",
    "text_dataset"
   ]
  },
  {
   "cell_type": "code",
   "execution_count": 4,
   "id": "5a663cb4-e834-4b60-ab4a-5a3139fda5e6",
   "metadata": {},
   "outputs": [
    {
     "name": "stdout",
     "output_type": "stream",
     "text": [
      "tf.Tensor(b'Go.\\tVa !\\tCC-BY 2.0 (France) Attribution: tatoeba.org #2877272 (CM) & #1158250 (Wittydev)', shape=(), dtype=string)\n",
      "tf.Tensor(b'Go.\\tMarche.\\tCC-BY 2.0 (France) Attribution: tatoeba.org #2877272 (CM) & #8090732 (Micsmithel)', shape=(), dtype=string)\n",
      "tf.Tensor(b'Go.\\tEn route !\\tCC-BY 2.0 (France) Attribution: tatoeba.org #2877272 (CM) & #8267435 (felix63)', shape=(), dtype=string)\n"
     ]
    }
   ],
   "source": [
    "for i in text_dataset.take(3):\n",
    "    print(i)"
   ]
  },
  {
   "cell_type": "code",
   "execution_count": 5,
   "id": "975886bb-f945-4205-89b1-462434c61772",
   "metadata": {},
   "outputs": [],
   "source": [
    "VOCAB_SIZE = 20000\n",
    "ENGLISH_SEQUENCE_LENGTH = 64\n",
    "FRENCH_SEQUENCE_LENGTH = 64\n",
    "EMBEDDING_DIM = 256\n",
    "BATCH_SIZE = 64"
   ]
  },
  {
   "cell_type": "code",
   "execution_count": 6,
   "id": "199b1f4f-9969-424e-9e43-e09db7c1410d",
   "metadata": {},
   "outputs": [],
   "source": [
    "english_vectorize_layer = TextVectorization(\n",
    "    standardize='lower_and_strip_punctuation',\n",
    "    max_tokens=VOCAB_SIZE,\n",
    "    output_mode='int',\n",
    "    output_sequence_length=ENGLISH_SEQUENCE_LENGTH\n",
    ")"
   ]
  },
  {
   "cell_type": "code",
   "execution_count": 7,
   "id": "2e8cfc38-01dd-4126-b289-030d97d76df0",
   "metadata": {},
   "outputs": [],
   "source": [
    "french_vectorize_layer = TextVectorization(\n",
    "    standardize='lower_and_strip_punctuation',\n",
    "    max_tokens=VOCAB_SIZE,\n",
    "    output_mode='int',\n",
    "    output_sequence_length=FRENCH_SEQUENCE_LENGTH\n",
    ")"
   ]
  },
  {
   "cell_type": "code",
   "execution_count": 8,
   "id": "c478d0d5-4e7a-406b-83f7-4c9091a7ee5f",
   "metadata": {},
   "outputs": [],
   "source": [
    "def selector(input_text):\n",
    "    split_text = tf.strings.split(input_text, '\\t')\n",
    "    return { 'input_1': split_text[0:1], 'input_2': 'starttoken ' + split_text[1:2] },  split_text[1:2] + ' endtoken'"
   ]
  },
  {
   "cell_type": "code",
   "execution_count": 9,
   "id": "87d2f5c7-6b62-442f-94ff-ee083989a454",
   "metadata": {},
   "outputs": [
    {
     "data": {
      "text/plain": [
       "<_MapDataset element_spec=({'input_1': TensorSpec(shape=(None,), dtype=tf.string, name=None), 'input_2': TensorSpec(shape=(None,), dtype=tf.string, name=None)}, TensorSpec(shape=(None,), dtype=tf.string, name=None))>"
      ]
     },
     "execution_count": 9,
     "metadata": {},
     "output_type": "execute_result"
    }
   ],
   "source": [
    "split_dataset = text_dataset.map(selector)\n",
    "split_dataset"
   ]
  },
  {
   "cell_type": "code",
   "execution_count": 10,
   "id": "848dcf14-8775-4ff5-a36a-59f5821f70bb",
   "metadata": {},
   "outputs": [
    {
     "name": "stdout",
     "output_type": "stream",
     "text": [
      "({'input_1': <tf.Tensor: shape=(1,), dtype=string, numpy=array([b'Go.'], dtype=object)>, 'input_2': <tf.Tensor: shape=(1,), dtype=string, numpy=array([b'starttoken Va !'], dtype=object)>}, <tf.Tensor: shape=(1,), dtype=string, numpy=array([b'Va ! endtoken'], dtype=object)>)\n",
      "({'input_1': <tf.Tensor: shape=(1,), dtype=string, numpy=array([b'Go.'], dtype=object)>, 'input_2': <tf.Tensor: shape=(1,), dtype=string, numpy=array([b'starttoken Marche.'], dtype=object)>}, <tf.Tensor: shape=(1,), dtype=string, numpy=array([b'Marche. endtoken'], dtype=object)>)\n",
      "({'input_1': <tf.Tensor: shape=(1,), dtype=string, numpy=array([b'Go.'], dtype=object)>, 'input_2': <tf.Tensor: shape=(1,), dtype=string, numpy=array([b'starttoken En route !'], dtype=object)>}, <tf.Tensor: shape=(1,), dtype=string, numpy=array([b'En route ! endtoken'], dtype=object)>)\n"
     ]
    }
   ],
   "source": [
    "for i in split_dataset.take(3):\n",
    "    print(i)"
   ]
  },
  {
   "cell_type": "code",
   "execution_count": 11,
   "id": "94283dd2-9218-4e85-9d1c-d5598bb5e9cb",
   "metadata": {},
   "outputs": [],
   "source": [
    "def seperator(input_text):\n",
    "    split_text = tf.strings.split(input_text, '\\t')\n",
    "    return split_text[0:1], 'starttoken ' + split_text[1:2] + ' endtoken'"
   ]
  },
  {
   "cell_type": "code",
   "execution_count": 12,
   "id": "868f5c78-1e23-4079-adc7-a836fd1ce006",
   "metadata": {},
   "outputs": [
    {
     "data": {
      "text/plain": [
       "<_MapDataset element_spec=(TensorSpec(shape=(None,), dtype=tf.string, name=None), TensorSpec(shape=(None,), dtype=tf.string, name=None))>"
      ]
     },
     "execution_count": 12,
     "metadata": {},
     "output_type": "execute_result"
    }
   ],
   "source": [
    "init_dataset = text_dataset.map(seperator)\n",
    "init_dataset"
   ]
  },
  {
   "cell_type": "code",
   "execution_count": 13,
   "id": "ea34668f-08c0-4739-920a-b0e359527411",
   "metadata": {},
   "outputs": [
    {
     "name": "stdout",
     "output_type": "stream",
     "text": [
      "(<tf.Tensor: shape=(1,), dtype=string, numpy=array([b'Go.'], dtype=object)>, <tf.Tensor: shape=(1,), dtype=string, numpy=array([b'starttoken Va ! endtoken'], dtype=object)>)\n",
      "(<tf.Tensor: shape=(1,), dtype=string, numpy=array([b'Go.'], dtype=object)>, <tf.Tensor: shape=(1,), dtype=string, numpy=array([b'starttoken Marche. endtoken'], dtype=object)>)\n",
      "(<tf.Tensor: shape=(1,), dtype=string, numpy=array([b'Go.'], dtype=object)>, <tf.Tensor: shape=(1,), dtype=string, numpy=array([b'starttoken En route ! endtoken'], dtype=object)>)\n"
     ]
    }
   ],
   "source": [
    "for i in init_dataset.take(3):\n",
    "    print(i)"
   ]
  },
  {
   "cell_type": "markdown",
   "id": "8d058e04-d0d8-4e9b-a1a8-75ba22defe91",
   "metadata": {},
   "source": [
    "### vocabulary"
   ]
  },
  {
   "cell_type": "code",
   "execution_count": 14,
   "id": "3289b4df-57c0-4657-afcc-8c435c756731",
   "metadata": {},
   "outputs": [],
   "source": [
    "english_training_data = init_dataset.map(lambda x, y: x)"
   ]
  },
  {
   "cell_type": "code",
   "execution_count": 15,
   "id": "705c65b3-71f8-4234-9c0e-bdea02788427",
   "metadata": {},
   "outputs": [
    {
     "name": "stdout",
     "output_type": "stream",
     "text": [
      "tf.Tensor([b'Go.'], shape=(1,), dtype=string)\n"
     ]
    }
   ],
   "source": [
    "for i in english_training_data.take(1):\n",
    "    print(i)"
   ]
  },
  {
   "cell_type": "code",
   "execution_count": 16,
   "id": "3e8d7c93-5ede-4e1a-982f-7fe969225ce5",
   "metadata": {
    "scrolled": true
   },
   "outputs": [
    {
     "name": "stderr",
     "output_type": "stream",
     "text": [
      "2023-10-26 12:13:13.788403: I tensorflow/core/grappler/optimizers/custom_graph_optimizer_registry.cc:117] Plugin optimizer for device_type GPU is enabled.\n"
     ]
    }
   ],
   "source": [
    "english_vectorize_layer.adapt(english_training_data)"
   ]
  },
  {
   "cell_type": "code",
   "execution_count": 17,
   "id": "ec340756-4557-4886-b12b-e3ab4cbf491b",
   "metadata": {},
   "outputs": [],
   "source": [
    "french_training_data = init_dataset.map(lambda x, y: y)\n",
    "french_vectorize_layer.adapt(french_training_data)"
   ]
  },
  {
   "cell_type": "markdown",
   "id": "2e018138-71cb-418e-8101-d3451dcdc025",
   "metadata": {},
   "source": [
    "### tokenization"
   ]
  },
  {
   "cell_type": "code",
   "execution_count": 18,
   "id": "bfd8d997-06ca-4766-9288-32fac88aa10f",
   "metadata": {},
   "outputs": [],
   "source": [
    "def vectorizer(inputs, output):\n",
    "    return {\n",
    "        'input_1': english_vectorize_layer(inputs['input_1']),\n",
    "        'input_2': french_vectorize_layer(inputs['input_2']) }, french_vectorize_layer(output)"
   ]
  },
  {
   "cell_type": "code",
   "execution_count": 19,
   "id": "e106a9dd-45d8-4183-b192-039558ad34d2",
   "metadata": {},
   "outputs": [
    {
     "data": {
      "text/plain": [
       "<_MapDataset element_spec=({'input_1': TensorSpec(shape=(None, 64), dtype=tf.int64, name=None), 'input_2': TensorSpec(shape=(None, 64), dtype=tf.int64, name=None)}, TensorSpec(shape=(None, 64), dtype=tf.int64, name=None))>"
      ]
     },
     "execution_count": 19,
     "metadata": {},
     "output_type": "execute_result"
    }
   ],
   "source": [
    "dataset = split_dataset.map(vectorizer)\n",
    "dataset"
   ]
  },
  {
   "cell_type": "code",
   "execution_count": 20,
   "id": "d56b9c12-bbee-42f5-9fcd-f1a52c46cac8",
   "metadata": {},
   "outputs": [
    {
     "data": {
      "text/plain": [
       "'endtoken'"
      ]
     },
     "execution_count": 20,
     "metadata": {},
     "output_type": "execute_result"
    }
   ],
   "source": [
    "french_vectorize_layer.get_vocabulary()[3]"
   ]
  },
  {
   "cell_type": "code",
   "execution_count": 21,
   "id": "2adcce74-5873-4096-8280-e0a081d51ec2",
   "metadata": {},
   "outputs": [
    {
     "name": "stdout",
     "output_type": "stream",
     "text": [
      "({'input_1': <tf.Tensor: shape=(1, 64), dtype=int64, numpy=\n",
      "array([[44,  0,  0,  0,  0,  0,  0,  0,  0,  0,  0,  0,  0,  0,  0,  0,\n",
      "         0,  0,  0,  0,  0,  0,  0,  0,  0,  0,  0,  0,  0,  0,  0,  0,\n",
      "         0,  0,  0,  0,  0,  0,  0,  0,  0,  0,  0,  0,  0,  0,  0,  0,\n",
      "         0,  0,  0,  0,  0,  0,  0,  0,  0,  0,  0,  0,  0,  0,  0,  0]])>, 'input_2': <tf.Tensor: shape=(1, 64), dtype=int64, numpy=\n",
      "array([[  2, 103,   0,   0,   0,   0,   0,   0,   0,   0,   0,   0,   0,\n",
      "          0,   0,   0,   0,   0,   0,   0,   0,   0,   0,   0,   0,   0,\n",
      "          0,   0,   0,   0,   0,   0,   0,   0,   0,   0,   0,   0,   0,\n",
      "          0,   0,   0,   0,   0,   0,   0,   0,   0,   0,   0,   0,   0,\n",
      "          0,   0,   0,   0,   0,   0,   0,   0,   0,   0,   0,   0]])>}, <tf.Tensor: shape=(1, 64), dtype=int64, numpy=\n",
      "array([[103,   3,   0,   0,   0,   0,   0,   0,   0,   0,   0,   0,   0,\n",
      "          0,   0,   0,   0,   0,   0,   0,   0,   0,   0,   0,   0,   0,\n",
      "          0,   0,   0,   0,   0,   0,   0,   0,   0,   0,   0,   0,   0,\n",
      "          0,   0,   0,   0,   0,   0,   0,   0,   0,   0,   0,   0,   0,\n",
      "          0,   0,   0,   0,   0,   0,   0,   0,   0,   0,   0,   0]])>)\n",
      "({'input_1': <tf.Tensor: shape=(1, 64), dtype=int64, numpy=\n",
      "array([[44,  0,  0,  0,  0,  0,  0,  0,  0,  0,  0,  0,  0,  0,  0,  0,\n",
      "         0,  0,  0,  0,  0,  0,  0,  0,  0,  0,  0,  0,  0,  0,  0,  0,\n",
      "         0,  0,  0,  0,  0,  0,  0,  0,  0,  0,  0,  0,  0,  0,  0,  0,\n",
      "         0,  0,  0,  0,  0,  0,  0,  0,  0,  0,  0,  0,  0,  0,  0,  0]])>, 'input_2': <tf.Tensor: shape=(1, 64), dtype=int64, numpy=\n",
      "array([[  2, 820,   0,   0,   0,   0,   0,   0,   0,   0,   0,   0,   0,\n",
      "          0,   0,   0,   0,   0,   0,   0,   0,   0,   0,   0,   0,   0,\n",
      "          0,   0,   0,   0,   0,   0,   0,   0,   0,   0,   0,   0,   0,\n",
      "          0,   0,   0,   0,   0,   0,   0,   0,   0,   0,   0,   0,   0,\n",
      "          0,   0,   0,   0,   0,   0,   0,   0,   0,   0,   0,   0]])>}, <tf.Tensor: shape=(1, 64), dtype=int64, numpy=\n",
      "array([[820,   3,   0,   0,   0,   0,   0,   0,   0,   0,   0,   0,   0,\n",
      "          0,   0,   0,   0,   0,   0,   0,   0,   0,   0,   0,   0,   0,\n",
      "          0,   0,   0,   0,   0,   0,   0,   0,   0,   0,   0,   0,   0,\n",
      "          0,   0,   0,   0,   0,   0,   0,   0,   0,   0,   0,   0,   0,\n",
      "          0,   0,   0,   0,   0,   0,   0,   0,   0,   0,   0,   0]])>)\n",
      "({'input_1': <tf.Tensor: shape=(1, 64), dtype=int64, numpy=\n",
      "array([[44,  0,  0,  0,  0,  0,  0,  0,  0,  0,  0,  0,  0,  0,  0,  0,\n",
      "         0,  0,  0,  0,  0,  0,  0,  0,  0,  0,  0,  0,  0,  0,  0,  0,\n",
      "         0,  0,  0,  0,  0,  0,  0,  0,  0,  0,  0,  0,  0,  0,  0,  0,\n",
      "         0,  0,  0,  0,  0,  0,  0,  0,  0,  0,  0,  0,  0,  0,  0,  0]])>, 'input_2': <tf.Tensor: shape=(1, 64), dtype=int64, numpy=\n",
      "array([[  2,  23, 617,   0,   0,   0,   0,   0,   0,   0,   0,   0,   0,\n",
      "          0,   0,   0,   0,   0,   0,   0,   0,   0,   0,   0,   0,   0,\n",
      "          0,   0,   0,   0,   0,   0,   0,   0,   0,   0,   0,   0,   0,\n",
      "          0,   0,   0,   0,   0,   0,   0,   0,   0,   0,   0,   0,   0,\n",
      "          0,   0,   0,   0,   0,   0,   0,   0,   0,   0,   0,   0]])>}, <tf.Tensor: shape=(1, 64), dtype=int64, numpy=\n",
      "array([[ 23, 617,   3,   0,   0,   0,   0,   0,   0,   0,   0,   0,   0,\n",
      "          0,   0,   0,   0,   0,   0,   0,   0,   0,   0,   0,   0,   0,\n",
      "          0,   0,   0,   0,   0,   0,   0,   0,   0,   0,   0,   0,   0,\n",
      "          0,   0,   0,   0,   0,   0,   0,   0,   0,   0,   0,   0,   0,\n",
      "          0,   0,   0,   0,   0,   0,   0,   0,   0,   0,   0,   0]])>)\n"
     ]
    }
   ],
   "source": [
    "for i in dataset.take(3):\n",
    "    print(i)"
   ]
  },
  {
   "cell_type": "markdown",
   "id": "74cf3f22-02b4-475b-9c1f-b6ad4c5fe33b",
   "metadata": {},
   "source": [
    "### shuffle and make as batch"
   ]
  },
  {
   "cell_type": "code",
   "execution_count": 22,
   "id": "875c4cca-a223-4c57-93b0-6f0852706351",
   "metadata": {},
   "outputs": [
    {
     "name": "stdout",
     "output_type": "stream",
     "text": [
      "<_ShuffleDataset element_spec=({'input_1': TensorSpec(shape=(None, 64), dtype=tf.int64, name=None), 'input_2': TensorSpec(shape=(None, 64), dtype=tf.int64, name=None)}, TensorSpec(shape=(None, 64), dtype=tf.int64, name=None))>\n"
     ]
    }
   ],
   "source": [
    "dataset = dataset.shuffle(2038)\n",
    "print(dataset)"
   ]
  },
  {
   "cell_type": "code",
   "execution_count": 23,
   "id": "6e4191e0-4832-44fb-ac68-897cea30cc47",
   "metadata": {},
   "outputs": [
    {
     "data": {
      "text/plain": [
       "<_UnbatchDataset element_spec=({'input_1': TensorSpec(shape=(64,), dtype=tf.int64, name=None), 'input_2': TensorSpec(shape=(64,), dtype=tf.int64, name=None)}, TensorSpec(shape=(64,), dtype=tf.int64, name=None))>"
      ]
     },
     "execution_count": 23,
     "metadata": {},
     "output_type": "execute_result"
    }
   ],
   "source": [
    "dataset = dataset.unbatch()\n",
    "dataset"
   ]
  },
  {
   "cell_type": "code",
   "execution_count": 24,
   "id": "c2a33a11-1ac6-47f0-9ef9-ae151db6177b",
   "metadata": {},
   "outputs": [
    {
     "data": {
      "text/plain": [
       "<_PrefetchDataset element_spec=({'input_1': TensorSpec(shape=(None, 64), dtype=tf.int64, name=None), 'input_2': TensorSpec(shape=(None, 64), dtype=tf.int64, name=None)}, TensorSpec(shape=(None, 64), dtype=tf.int64, name=None))>"
      ]
     },
     "execution_count": 24,
     "metadata": {},
     "output_type": "execute_result"
    }
   ],
   "source": [
    "dataset = dataset.batch(BATCH_SIZE).prefetch(buffer_size=tf.data.AUTOTUNE)\n",
    "dataset"
   ]
  },
  {
   "cell_type": "code",
   "execution_count": 25,
   "id": "e8b09948-d0ea-4d04-9766-ab76d55011f1",
   "metadata": {},
   "outputs": [
    {
     "data": {
      "text/plain": [
       "3125"
      ]
     },
     "execution_count": 25,
     "metadata": {},
     "output_type": "execute_result"
    }
   ],
   "source": [
    "NUM_BATCHES = int(200000 / BATCH_SIZE)\n",
    "NUM_BATCHES"
   ]
  },
  {
   "cell_type": "code",
   "execution_count": 26,
   "id": "122dd82c-3e39-442c-b413-cd286a46b115",
   "metadata": {},
   "outputs": [
    {
     "data": {
      "text/plain": [
       "<_TakeDataset element_spec=({'input_1': TensorSpec(shape=(None, 64), dtype=tf.int64, name=None), 'input_2': TensorSpec(shape=(None, 64), dtype=tf.int64, name=None)}, TensorSpec(shape=(None, 64), dtype=tf.int64, name=None))>"
      ]
     },
     "execution_count": 26,
     "metadata": {},
     "output_type": "execute_result"
    }
   ],
   "source": [
    "train_dataset = dataset.take(int(0.9 * NUM_BATCHES))\n",
    "val_dataset = dataset.skip(int(0.9 * NUM_BATCHES))\n",
    "train_dataset"
   ]
  },
  {
   "cell_type": "code",
   "execution_count": 27,
   "id": "4d331252-6704-407f-b5d0-fa4a22e54bc2",
   "metadata": {},
   "outputs": [
    {
     "name": "stdout",
     "output_type": "stream",
     "text": [
      "({'input_1': <tf.Tensor: shape=(64, 64), dtype=int64, numpy=\n",
      "array([[ 418,  216,    0, ...,    0,    0,    0],\n",
      "       [ 823,   15,    0, ...,    0,    0,    0],\n",
      "       [   2,  144, 1696, ...,    0,    0,    0],\n",
      "       ...,\n",
      "       [3121,   11,    0, ...,    0,    0,    0],\n",
      "       [  93,  361,    0, ...,    0,    0,    0],\n",
      "       [1535,    0,    0, ...,    0,    0,    0]])>, 'input_2': <tf.Tensor: shape=(64, 64), dtype=int64, numpy=\n",
      "array([[    2,     1,     0, ...,     0,     0,     0],\n",
      "       [    2, 10875,     0, ...,     0,     0,     0],\n",
      "       [    2,     4,    25, ...,     0,     0,     0],\n",
      "       ...,\n",
      "       [    2,  9080,    17, ...,     0,     0,     0],\n",
      "       [    2,   667,     9, ...,     0,     0,     0],\n",
      "       [    2, 15837,     0, ...,     0,     0,     0]])>}, <tf.Tensor: shape=(64, 64), dtype=int64, numpy=\n",
      "array([[    1,     3,     0, ...,     0,     0,     0],\n",
      "       [10875,     3,     0, ...,     0,     0,     0],\n",
      "       [    4,    25,  1673, ...,     0,     0,     0],\n",
      "       ...,\n",
      "       [ 9080,    17,   375, ...,     0,     0,     0],\n",
      "       [  667,     9,  1097, ...,     0,     0,     0],\n",
      "       [15837,     3,     0, ...,     0,     0,     0]])>)\n"
     ]
    }
   ],
   "source": [
    "for i in train_dataset.take(1):\n",
    "    print(i)"
   ]
  },
  {
   "cell_type": "markdown",
   "id": "703bdde9-3a03-45cd-85e5-506142427934",
   "metadata": {},
   "source": [
    "# Model"
   ]
  },
  {
   "cell_type": "markdown",
   "id": "7983ae1b-68c0-449f-9ede-4a6d56c5fcbb",
   "metadata": {},
   "source": [
    "### Positional Encoding"
   ]
  },
  {
   "cell_type": "code",
   "execution_count": 28,
   "id": "6b281590-e586-44d8-b07d-227b2db4b9f6",
   "metadata": {},
   "outputs": [],
   "source": [
    "def positional_encoding(model_size, SEQUENCE_LENGTH):\n",
    "    output = []\n",
    "    for pos in range(SEQUENCE_LENGTH):\n",
    "        PE = np.zeros((model_size))\n",
    "        for i in range(model_size):\n",
    "            if i % 2 == 0:\n",
    "                PE[i] = np.sin(pos / (10000 ** (i/model_size)))\n",
    "            else:\n",
    "                PE[i] = np.cos(pos / (10000 ** ((i - 1)/model_size)))\n",
    "        output.append(tf.expand_dims(PE, axis=0))\n",
    "    out = tf.concat(output, axis=0)\n",
    "    # print(\"1.out.shape=\",out.shape)\n",
    "    out = tf.expand_dims(out, axis=0)\n",
    "    # print(\"2.out.shape=\",out.shape) # 1(batch dimenstion) SEQUENCE EMBEDDING\n",
    "    return tf.cast(out, dtype=tf.float32)"
   ]
  },
  {
   "cell_type": "code",
   "execution_count": 29,
   "id": "268acf68-b97c-46c5-9498-91d86213467e",
   "metadata": {},
   "outputs": [
    {
     "data": {
      "text/plain": [
       "<tf.Tensor: shape=(1, 64, 256), dtype=float32, numpy=\n",
       "array([[[ 0.00000000e+00,  1.00000000e+00,  0.00000000e+00, ...,\n",
       "          1.00000000e+00,  0.00000000e+00,  1.00000000e+00],\n",
       "        [ 8.41470957e-01,  5.40302277e-01,  8.01961780e-01, ...,\n",
       "          1.00000000e+00,  1.07460786e-04,  1.00000000e+00],\n",
       "        [ 9.09297407e-01, -4.16146845e-01,  9.58144367e-01, ...,\n",
       "          1.00000000e+00,  2.14921558e-04,  1.00000000e+00],\n",
       "        ...,\n",
       "        [-9.66117799e-01, -2.58101642e-01,  2.14545757e-01, ...,\n",
       "          9.99975204e-01,  6.55506086e-03,  9.99978542e-01],\n",
       "        [-7.39180684e-01,  6.73507154e-01,  9.11451578e-01, ...,\n",
       "          9.99974370e-01,  6.66251918e-03,  9.99977827e-01],\n",
       "        [ 1.67355701e-01,  9.85896587e-01,  8.74411643e-01, ...,\n",
       "          9.99973536e-01,  6.76997751e-03,  9.99977112e-01]]],\n",
       "      dtype=float32)>"
      ]
     },
     "execution_count": 29,
     "metadata": {},
     "output_type": "execute_result"
    }
   ],
   "source": [
    "positional_encoding(EMBEDDING_DIM, FRENCH_SEQUENCE_LENGTH)"
   ]
  },
  {
   "cell_type": "code",
   "execution_count": 30,
   "id": "e78d3229-92fc-400f-9c19-1ff98fe2990f",
   "metadata": {},
   "outputs": [],
   "source": [
    "class AddPositionEncoding(tf.keras.layers.Layer):\n",
    "    def __init__(self, model_size, sequence_length):\n",
    "        super().__init__()\n",
    "        self.model_size = model_size\n",
    "        self.sequence_length = sequence_length\n",
    "        self.positional_encoding = positional_encoding(model_size, sequence_length)\n",
    "\n",
    "    def call(self, input):\n",
    "        return input + self.positional_encoding"
   ]
  },
  {
   "cell_type": "code",
   "execution_count": 31,
   "id": "e9dce0db-1174-4934-91ad-4fd8c948d6a7",
   "metadata": {},
   "outputs": [
    {
     "data": {
      "text/plain": [
       "<tf.Tensor: shape=(64, 64, 256), dtype=float32, numpy=\n",
       "array([[[ 0.00000000e+00,  1.00000000e+00,  0.00000000e+00, ...,\n",
       "          1.00000000e+00,  0.00000000e+00,  1.00000000e+00],\n",
       "        [ 8.41470957e-01,  5.40302277e-01,  8.01961780e-01, ...,\n",
       "          1.00000000e+00,  1.07460786e-04,  1.00000000e+00],\n",
       "        [ 9.09297407e-01, -4.16146845e-01,  9.58144367e-01, ...,\n",
       "          1.00000000e+00,  2.14921558e-04,  1.00000000e+00],\n",
       "        ...,\n",
       "        [-9.66117799e-01, -2.58101642e-01,  2.14545757e-01, ...,\n",
       "          9.99975204e-01,  6.55506086e-03,  9.99978542e-01],\n",
       "        [-7.39180684e-01,  6.73507154e-01,  9.11451578e-01, ...,\n",
       "          9.99974370e-01,  6.66251918e-03,  9.99977827e-01],\n",
       "        [ 1.67355701e-01,  9.85896587e-01,  8.74411643e-01, ...,\n",
       "          9.99973536e-01,  6.76997751e-03,  9.99977112e-01]],\n",
       "\n",
       "       [[ 0.00000000e+00,  1.00000000e+00,  0.00000000e+00, ...,\n",
       "          1.00000000e+00,  0.00000000e+00,  1.00000000e+00],\n",
       "        [ 8.41470957e-01,  5.40302277e-01,  8.01961780e-01, ...,\n",
       "          1.00000000e+00,  1.07460786e-04,  1.00000000e+00],\n",
       "        [ 9.09297407e-01, -4.16146845e-01,  9.58144367e-01, ...,\n",
       "          1.00000000e+00,  2.14921558e-04,  1.00000000e+00],\n",
       "        ...,\n",
       "        [-9.66117799e-01, -2.58101642e-01,  2.14545757e-01, ...,\n",
       "          9.99975204e-01,  6.55506086e-03,  9.99978542e-01],\n",
       "        [-7.39180684e-01,  6.73507154e-01,  9.11451578e-01, ...,\n",
       "          9.99974370e-01,  6.66251918e-03,  9.99977827e-01],\n",
       "        [ 1.67355701e-01,  9.85896587e-01,  8.74411643e-01, ...,\n",
       "          9.99973536e-01,  6.76997751e-03,  9.99977112e-01]],\n",
       "\n",
       "       [[ 0.00000000e+00,  1.00000000e+00,  0.00000000e+00, ...,\n",
       "          1.00000000e+00,  0.00000000e+00,  1.00000000e+00],\n",
       "        [ 8.41470957e-01,  5.40302277e-01,  8.01961780e-01, ...,\n",
       "          1.00000000e+00,  1.07460786e-04,  1.00000000e+00],\n",
       "        [ 9.09297407e-01, -4.16146845e-01,  9.58144367e-01, ...,\n",
       "          1.00000000e+00,  2.14921558e-04,  1.00000000e+00],\n",
       "        ...,\n",
       "        [-9.66117799e-01, -2.58101642e-01,  2.14545757e-01, ...,\n",
       "          9.99975204e-01,  6.55506086e-03,  9.99978542e-01],\n",
       "        [-7.39180684e-01,  6.73507154e-01,  9.11451578e-01, ...,\n",
       "          9.99974370e-01,  6.66251918e-03,  9.99977827e-01],\n",
       "        [ 1.67355701e-01,  9.85896587e-01,  8.74411643e-01, ...,\n",
       "          9.99973536e-01,  6.76997751e-03,  9.99977112e-01]],\n",
       "\n",
       "       ...,\n",
       "\n",
       "       [[ 0.00000000e+00,  1.00000000e+00,  0.00000000e+00, ...,\n",
       "          1.00000000e+00,  0.00000000e+00,  1.00000000e+00],\n",
       "        [ 8.41470957e-01,  5.40302277e-01,  8.01961780e-01, ...,\n",
       "          1.00000000e+00,  1.07460786e-04,  1.00000000e+00],\n",
       "        [ 9.09297407e-01, -4.16146845e-01,  9.58144367e-01, ...,\n",
       "          1.00000000e+00,  2.14921558e-04,  1.00000000e+00],\n",
       "        ...,\n",
       "        [-9.66117799e-01, -2.58101642e-01,  2.14545757e-01, ...,\n",
       "          9.99975204e-01,  6.55506086e-03,  9.99978542e-01],\n",
       "        [-7.39180684e-01,  6.73507154e-01,  9.11451578e-01, ...,\n",
       "          9.99974370e-01,  6.66251918e-03,  9.99977827e-01],\n",
       "        [ 1.67355701e-01,  9.85896587e-01,  8.74411643e-01, ...,\n",
       "          9.99973536e-01,  6.76997751e-03,  9.99977112e-01]],\n",
       "\n",
       "       [[ 0.00000000e+00,  1.00000000e+00,  0.00000000e+00, ...,\n",
       "          1.00000000e+00,  0.00000000e+00,  1.00000000e+00],\n",
       "        [ 8.41470957e-01,  5.40302277e-01,  8.01961780e-01, ...,\n",
       "          1.00000000e+00,  1.07460786e-04,  1.00000000e+00],\n",
       "        [ 9.09297407e-01, -4.16146845e-01,  9.58144367e-01, ...,\n",
       "          1.00000000e+00,  2.14921558e-04,  1.00000000e+00],\n",
       "        ...,\n",
       "        [-9.66117799e-01, -2.58101642e-01,  2.14545757e-01, ...,\n",
       "          9.99975204e-01,  6.55506086e-03,  9.99978542e-01],\n",
       "        [-7.39180684e-01,  6.73507154e-01,  9.11451578e-01, ...,\n",
       "          9.99974370e-01,  6.66251918e-03,  9.99977827e-01],\n",
       "        [ 1.67355701e-01,  9.85896587e-01,  8.74411643e-01, ...,\n",
       "          9.99973536e-01,  6.76997751e-03,  9.99977112e-01]],\n",
       "\n",
       "       [[ 0.00000000e+00,  1.00000000e+00,  0.00000000e+00, ...,\n",
       "          1.00000000e+00,  0.00000000e+00,  1.00000000e+00],\n",
       "        [ 8.41470957e-01,  5.40302277e-01,  8.01961780e-01, ...,\n",
       "          1.00000000e+00,  1.07460786e-04,  1.00000000e+00],\n",
       "        [ 9.09297407e-01, -4.16146845e-01,  9.58144367e-01, ...,\n",
       "          1.00000000e+00,  2.14921558e-04,  1.00000000e+00],\n",
       "        ...,\n",
       "        [-9.66117799e-01, -2.58101642e-01,  2.14545757e-01, ...,\n",
       "          9.99975204e-01,  6.55506086e-03,  9.99978542e-01],\n",
       "        [-7.39180684e-01,  6.73507154e-01,  9.11451578e-01, ...,\n",
       "          9.99974370e-01,  6.66251918e-03,  9.99977827e-01],\n",
       "        [ 1.67355701e-01,  9.85896587e-01,  8.74411643e-01, ...,\n",
       "          9.99973536e-01,  6.76997751e-03,  9.99977112e-01]]],\n",
       "      dtype=float32)>"
      ]
     },
     "execution_count": 31,
     "metadata": {},
     "output_type": "execute_result"
    }
   ],
   "source": [
    "AddPositionEncoding(EMBEDDING_DIM, FRENCH_SEQUENCE_LENGTH)(tf.zeros(\n",
    "    [BATCH_SIZE, FRENCH_SEQUENCE_LENGTH, EMBEDDING_DIM]\n",
    "))"
   ]
  },
  {
   "cell_type": "markdown",
   "id": "e95a9c09-e281-4498-9b58-81b297cc8501",
   "metadata": {},
   "source": [
    "### Embeddings"
   ]
  },
  {
   "cell_type": "code",
   "execution_count": 41,
   "id": "4725c5f9-acc2-4123-b959-c15cda258f64",
   "metadata": {},
   "outputs": [],
   "source": [
    "class Embeddings(tf.keras.layers.Layer):\n",
    "    def __init__(self, sequence_length, vocab_size, embed_dim):\n",
    "        super().__init__()\n",
    "        self.token_embeddings = Embedding(input_dim=vocab_size, output_dim=embed_dim)\n",
    "        self.sequence_length = sequence_length\n",
    "        self.vocab_size = vocab_size\n",
    "        self.embed_dim = embed_dim\n",
    "        self.embedded_position = positional_encoding(self.embed_dim, self.sequence_length)\n",
    "\n",
    "    def call(self, inputs):\n",
    "        embedded_tokens = self.token_embeddings(inputs)\n",
    "        return embedded_tokens + self.embedded_position\n",
    "\n",
    "    def compute_mask(self, inputs, mask=None):\n",
    "        return tf.math.not_equal(inputs, 0)"
   ]
  },
  {
   "cell_type": "code",
   "execution_count": 63,
   "id": "fba5e0fa-6e3a-49ad-9cd4-05165bc881e4",
   "metadata": {},
   "outputs": [
    {
     "name": "stdout",
     "output_type": "stream",
     "text": [
      "(1, 8, 256)\n"
     ]
    }
   ],
   "source": [
    "test_input = tf.constant([[2,4,7,21,3,5,0,0]])\n",
    "emb = Embeddings(8, 20000, 256)\n",
    "emb_out = emb(test_input)\n",
    "print(emb_out.shape)"
   ]
  },
  {
   "cell_type": "code",
   "execution_count": 64,
   "id": "161f5377-8961-48e5-bacb-9653ed7fd170",
   "metadata": {},
   "outputs": [
    {
     "name": "stdout",
     "output_type": "stream",
     "text": [
      "tf.Tensor([[ True  True  True  True  True  True False False]], shape=(1, 8), dtype=bool)\n"
     ]
    }
   ],
   "source": [
    "enc_mask = emb.compute_mask(test_input)\n",
    "print(enc_mask)"
   ]
  },
  {
   "cell_type": "markdown",
   "id": "8ed57da8-aaf0-493e-aca0-e5b2e7624345",
   "metadata": {},
   "source": [
    "### Encoder"
   ]
  },
  {
   "cell_type": "code",
   "execution_count": 65,
   "id": "4f0c42ca-9076-49bf-a7a9-ca1007c9a3a9",
   "metadata": {},
   "outputs": [],
   "source": [
    "class TransfomerEncoder(Layer):\n",
    "    def __init__(self, embed_dim, dense_dim, num_heads):\n",
    "        super().__init__()\n",
    "        self.embed_dim = embed_dim\n",
    "        self.dense_dim = dense_dim\n",
    "        self.num_heads = num_heads\n",
    "        self.attention = MultiHeadAttention(\n",
    "            num_heads=num_heads, key_dim=embed_dim\n",
    "        )\n",
    "        self.dense_proj = tf.keras.Sequential([\n",
    "            Dense(dense_dim, activation=\"relu\"),\n",
    "            Dense(1)\n",
    "        ])\n",
    "        self.layernorm_1 = LayerNormalization()\n",
    "        self.layernorm_2 = LayerNormalization()\n",
    "        self.supports_masking = True\n",
    "\n",
    "    def call(self, inputs, mask=None):\n",
    "        print(\"1.mask=\", mask)\n",
    "        padding_mask = None\n",
    "        if mask is not None:\n",
    "            mask = tf.cast(mask[:, tf.newaxis, :], dtype=\"int32\")\n",
    "            # print(\"2.mask=\", mask)\n",
    "            T = tf.shape(mask)[2]\n",
    "            padding_mask = tf.repeat(mask, T, axis=1)\n",
    "            # print(\"padding_mask=\", padding_mask)\n",
    "        attention_output = self.attention(\n",
    "            query=inputs, key=inputs, value=inputs,\n",
    "            attention_mask=padding_mask\n",
    "        )\n",
    "\n",
    "        proj_input = self.layernorm_1(inputs + attention_output)\n",
    "        proj_output = self.dense_proj(proj_input)\n",
    "        return self.layernorm_2(proj_input + proj_output)    "
   ]
  },
  {
   "cell_type": "code",
   "execution_count": 66,
   "id": "42b6aa3a-c349-4645-b6a4-306b44733757",
   "metadata": {},
   "outputs": [
    {
     "name": "stdout",
     "output_type": "stream",
     "text": [
      "1.mask= tf.Tensor([[ True  True  True  True  True  True False False]], shape=(1, 8), dtype=bool)\n",
      "(1, 8, 256)\n"
     ]
    }
   ],
   "source": [
    "encoder_output = TransfomerEncoder(256, 2048, 2)(emb_out)\n",
    "print(encoder_output.shape)"
   ]
  },
  {
   "cell_type": "code",
   "execution_count": 74,
   "id": "12ce1a68-84ab-482d-a858-7b90f7bf87fc",
   "metadata": {},
   "outputs": [],
   "source": [
    "class TransfomerDecoder(Layer):\n",
    "    def __init__(self, embed_dim, latent_dim, num_heads):\n",
    "        super().__init__()\n",
    "        self.embed_dim = embed_dim\n",
    "        self.latent_dim = latent_dim\n",
    "        self.num_heads = num_heads\n",
    "        self.attention_1 = MultiHeadAttention(\n",
    "            num_heads=num_heads, key_dim=embed_dim\n",
    "        )\n",
    "        self.attention_2 = MultiHeadAttention(\n",
    "            num_heads=num_heads, key_dim=embed_dim\n",
    "        )\n",
    "        self.dense_proj = tf.keras.Sequential([\n",
    "            Dense(latent_dim, activation=\"relu\"), Dense(embed_dim)\n",
    "        ])\n",
    "        self.layernorm_1 = LayerNormalization()\n",
    "        self.layernorm_2 = LayerNormalization()\n",
    "        self.layernorm_3 = LayerNormalization()\n",
    "\n",
    "    def call(self, inputs, encoder_outputs, enc_mask, mask=None):\n",
    "        print(mask)\n",
    "        padding_mask = None\n",
    "        cross_attn_mask = None\n",
    "        combined_mask = None\n",
    "        if mask is not None:\n",
    "            causal_mask = tf.linalg.band_part(\n",
    "                tf.ones([tf.shape(inputs)[0],\n",
    "                         tf.shape(inputs)[1],\n",
    "                         tf.shape(inputs)[1]], dtype=tf.int32), -1, 0)\n",
    "            mask = tf.cast(mask[:, tf.newaxis, :], dtype=\"int32\")\n",
    "            enc_mask = tf.cast(enc_mask[:, tf.newaxis, :], dtype=\"int32\")\n",
    "\n",
    "            T = tf.shape(mask)[2]\n",
    "            padding_mask = tf.repeat(mask, T, axis=1)\n",
    "            cross_attn_mask = tf.repeat(enc_mask, T, axis=1)\n",
    "            combined_mask = tf.minimum(padding_mask, causal_mask)\n",
    "            print('padding=', padding_mask)\n",
    "            print('causal=', causal_mask)\n",
    "            print('cross_attn=', cross_attn_mask)\n",
    "            print('combined=', combined_mask)\n",
    "        attention_output_1 = self.attention_1(\n",
    "            query=inputs, key=inputs, value=inputs,\n",
    "            attention_mask=combined_mask\n",
    "        )\n",
    "\n",
    "        out_1 = self.layernorm_1(inputs + attention_output_1)\n",
    "\n",
    "        attention_output_2 = self.attention_2(\n",
    "            query=out_1, key=encoder_outputs, value=encoder_outputs,\n",
    "            attention_mask=cross_attn_mask\n",
    "        )\n",
    "\n",
    "        out_2 = self.layernorm_2(out_1 + attention_output_2)\n",
    "\n",
    "        proj_output = self.dense_proj(out_2)\n",
    "        return self.layernorm_3(out_2 + proj_output)\n",
    "        "
   ]
  },
  {
   "cell_type": "code",
   "execution_count": 75,
   "id": "4c6a1082-c575-43c9-8fbf-6dcced918873",
   "metadata": {},
   "outputs": [
    {
     "name": "stdout",
     "output_type": "stream",
     "text": [
      "tf.Tensor([[ True  True  True  True  True  True False False]], shape=(1, 8), dtype=bool)\n",
      "padding= Tensor(\"transfomer_decoder_11/Repeat/Reshape_1:0\", shape=(1, 8, 8), dtype=int32)\n",
      "causal= Tensor(\"transfomer_decoder_11/MatrixBandPart:0\", shape=(1, 8, 8), dtype=int32)\n",
      "cross_attn= Tensor(\"transfomer_decoder_11/Repeat_1/Reshape_1:0\", shape=(None, 8, None), dtype=int32)\n",
      "combined= Tensor(\"transfomer_decoder_11/Minimum:0\", shape=(1, 8, 8), dtype=int32)\n"
     ]
    }
   ],
   "source": [
    "dec_mask=enc_mask\n",
    "decoder_output = TransfomerDecoder(256, 2048, 4)(emb_out, encoder_output, enc_mask)"
   ]
  },
  {
   "cell_type": "markdown",
   "id": "b016ca8d-4f15-41f0-a00f-664d966c6d7e",
   "metadata": {},
   "source": [
    "# Transformer Model"
   ]
  },
  {
   "cell_type": "code",
   "execution_count": 76,
   "id": "b25d3c73-0553-4316-9563-1fe497dff4e1",
   "metadata": {},
   "outputs": [],
   "source": [
    "EMBEDDING_DIM=256\n",
    "D_FF=2048\n",
    "NUM_HEADS=8\n",
    "NUM_LAYERS=2\n",
    "NUM_EPOCH=2"
   ]
  },
  {
   "cell_type": "code",
   "execution_count": 77,
   "id": "40c097b6-6ad1-4aab-beea-e44c575d77d8",
   "metadata": {},
   "outputs": [
    {
     "name": "stdout",
     "output_type": "stream",
     "text": [
      "1.mask= Tensor(\"Placeholder_1:0\", shape=(None, None), dtype=bool)\n",
      "1.mask= Tensor(\"Placeholder_1:0\", shape=(None, None), dtype=bool)\n",
      "Tensor(\"Placeholder_3:0\", shape=(None, None), dtype=bool)\n",
      "padding= Tensor(\"transfomer_decoder_12/Repeat/Reshape_1:0\", shape=(None, None, None), dtype=int32)\n",
      "causal= Tensor(\"transfomer_decoder_12/MatrixBandPart:0\", shape=(None, 64, 64), dtype=int32)\n",
      "cross_attn= Tensor(\"transfomer_decoder_12/Repeat_1/Reshape_1:0\", shape=(None, None, None), dtype=int32)\n",
      "combined= Tensor(\"transfomer_decoder_12/Minimum:0\", shape=(None, 64, 64), dtype=int32)\n",
      "None\n",
      "Model: \"transformer\"\n",
      "__________________________________________________________________________________________________\n",
      " Layer (type)                Output Shape                 Param #   Connected to                  \n",
      "==================================================================================================\n",
      " input_1 (InputLayer)        [(None, None)]               0         []                            \n",
      "                                                                                                  \n",
      " embeddings_15 (Embeddings)  (None, 64, 256)              5120000   ['input_1[0][0]']             \n",
      "                                                                                                  \n",
      " input_2 (InputLayer)        [(None, None)]               0         []                            \n",
      "                                                                                                  \n",
      " transfomer_encoder_17 (Tra  (None, 64, 256)              2632961   ['embeddings_15[0][0]']       \n",
      " nsfomerEncoder)                                                                                  \n",
      "                                                                                                  \n",
      " embeddings_16 (Embeddings)  (None, 64, 256)              5120000   ['input_2[0][0]']             \n",
      "                                                                                                  \n",
      " transfomer_encoder_18 (Tra  (None, 64, 256)              2632961   ['transfomer_encoder_17[0][0]'\n",
      " nsfomerEncoder)                                                    ]                             \n",
      "                                                                                                  \n",
      " tf.math.not_equal_4 (TFOpL  (None, None)                 0         ['input_1[0][0]']             \n",
      " ambda)                                                                                           \n",
      "                                                                                                  \n",
      " transfomer_decoder_12 (Tra  (None, 64, 256)              5259520   ['embeddings_16[0][0]',       \n",
      " nsfomerDecoder)                                                     'transfomer_encoder_18[0][0]'\n",
      "                                                                    , 'tf.math.not_equal_4[0][0]']\n",
      "                                                                                                  \n",
      " transfomer_decoder_13 (Tra  (None, 64, 256)              5259520   ['transfomer_decoder_12[0][0]'\n",
      " nsfomerDecoder)                                                    , 'transfomer_encoder_18[0][0]\n",
      "                                                                    ',                            \n",
      "                                                                     'tf.math.not_equal_4[0][0]'] \n",
      "                                                                                                  \n",
      " dropout_16 (Dropout)        (None, 64, 256)              0         ['transfomer_decoder_13[0][0]'\n",
      "                                                                    ]                             \n",
      "                                                                                                  \n",
      " dense_68 (Dense)            (None, 64, 20000)            5140000   ['dropout_16[0][0]']          \n",
      "                                                                                                  \n",
      "==================================================================================================\n",
      "Total params: 31164962 (118.88 MB)\n",
      "Trainable params: 31164962 (118.88 MB)\n",
      "Non-trainable params: 0 (0.00 Byte)\n",
      "__________________________________________________________________________________________________\n"
     ]
    }
   ],
   "source": [
    "encoder_inputs = Input(shape=(None,), dtype=\"int64\", name=\"input_1\")\n",
    "emb = Embeddings(ENGLISH_SEQUENCE_LENGTH, VOCAB_SIZE, EMBEDDING_DIM)\n",
    "x = emb(encoder_inputs)\n",
    "enc_mask = emb.compute_mask(encoder_inputs)\n",
    "\n",
    "for _ in range(NUM_LAYERS):\n",
    "    x = TransfomerEncoder(EMBEDDING_DIM, D_FF, NUM_HEADS)(x)\n",
    "encoder_outputs = x\n",
    "\n",
    "decoder_inputs = Input(shape=(None,), dtype=\"int64\", name=\"input_2\")\n",
    "\n",
    "x = Embeddings(FRENCH_SEQUENCE_LENGTH, VOCAB_SIZE, EMBEDDING_DIM)(decoder_inputs)\n",
    "for i in range(NUM_LAYERS):\n",
    "    x = TransfomerDecoder(EMBEDDING_DIM, D_FF, NUM_HEADS)(x, encoder_outputs, enc_mask)\n",
    "\n",
    "x = tf.keras.layers.Dropout(0.5)(x)\n",
    "decoder_outputs = Dense(VOCAB_SIZE, activation=\"softmax\")(x)\n",
    "\n",
    "transformer = tf.keras.Model(\n",
    "    [encoder_inputs, decoder_inputs], decoder_outputs, name=\"transformer\"\n",
    ")\n",
    "transformer.summary()"
   ]
  },
  {
   "cell_type": "markdown",
   "id": "097cdc35-1f81-4730-85e0-1c28b34d29f2",
   "metadata": {},
   "source": [
    "# Train"
   ]
  },
  {
   "cell_type": "code",
   "execution_count": 78,
   "id": "83e6d092-75c9-4cc0-8efc-bdf3998fa485",
   "metadata": {},
   "outputs": [],
   "source": [
    "class Scheduler(tf.keras.optimizers.schedules.LearningRateSchedule):\n",
    "    def __init__(self, d_model, warming_steps):\n",
    "        super().__init__()\n",
    "        self.d_model = tf.cast(d_model, tf.float64)\n",
    "        self.warming_steps = tf.cast(warming_steps, dtype=tf.float64)\n",
    "\n",
    "    def __call__(self, step):\n",
    "        step = tf.cast(step, dtype=tf.float64)\n",
    "        return (self.d_model**(-0.5)) * \\\n",
    "            tf.math.minimum(step**(-0.5), step * (self.warming_steps ** (-1.5)))"
   ]
  },
  {
   "cell_type": "code",
   "execution_count": 79,
   "id": "8dddc930-10f1-4824-a75e-38f65db9e9dd",
   "metadata": {},
   "outputs": [],
   "source": [
    "WARM_UP_STEPS=4000\n",
    "lr_scheduler = Scheduler(EMBEDDING_DIM, WARM_UP_STEPS)"
   ]
  },
  {
   "cell_type": "code",
   "execution_count": 80,
   "id": "d79d8fe3-6761-4eca-829a-ff9d5be0bf3f",
   "metadata": {},
   "outputs": [
    {
     "name": "stderr",
     "output_type": "stream",
     "text": [
      "WARNING:absl:At this time, the v2.11+ optimizer `tf.keras.optimizers.Adam` runs slowly on M1/M2 Macs, please use the legacy Keras optimizer instead, located at `tf.keras.optimizers.legacy.Adam`.\n"
     ]
    }
   ],
   "source": [
    "transformer.compile(\n",
    "    loss=tf.keras.losses.SparseCategoricalCrossentropy(),\n",
    "    optimizer=Adam(lr_scheduler, beta_1=0.9, beta_2=0.98, epsilon=1e9),)"
   ]
  },
  {
   "cell_type": "code",
   "execution_count": 81,
   "id": "c5e08fdc-a680-4b00-b28f-6a67fd756af2",
   "metadata": {},
   "outputs": [
    {
     "name": "stdout",
     "output_type": "stream",
     "text": [
      "Epoch 1/2\n",
      "1.mask= Tensor(\"transformer/embeddings_15/NotEqual:0\", shape=(None, 64), dtype=bool)\n",
      "1.mask= Tensor(\"transformer/embeddings_15/NotEqual:0\", shape=(None, 64), dtype=bool)\n",
      "Tensor(\"transformer/embeddings_16/NotEqual:0\", shape=(None, 64), dtype=bool)\n",
      "padding= Tensor(\"transformer/transfomer_decoder_12/Repeat/Reshape_1:0\", shape=(None, 64, 64), dtype=int32)\n",
      "causal= Tensor(\"transformer/transfomer_decoder_12/MatrixBandPart:0\", shape=(None, 64, 64), dtype=int32)\n",
      "cross_attn= Tensor(\"transformer/transfomer_decoder_12/Repeat_1/Reshape_1:0\", shape=(None, 64, 64), dtype=int32)\n",
      "combined= Tensor(\"transformer/transfomer_decoder_12/Minimum:0\", shape=(None, 64, 64), dtype=int32)\n",
      "None\n",
      "1.mask= Tensor(\"transformer/embeddings_15/NotEqual:0\", shape=(None, 64), dtype=bool)\n",
      "1.mask= Tensor(\"transformer/embeddings_15/NotEqual:0\", shape=(None, 64), dtype=bool)\n",
      "Tensor(\"transformer/embeddings_16/NotEqual:0\", shape=(None, 64), dtype=bool)\n",
      "padding= Tensor(\"transformer/transfomer_decoder_12/Repeat/Reshape_1:0\", shape=(None, 64, 64), dtype=int32)\n",
      "causal= Tensor(\"transformer/transfomer_decoder_12/MatrixBandPart:0\", shape=(None, 64, 64), dtype=int32)\n",
      "cross_attn= Tensor(\"transformer/transfomer_decoder_12/Repeat_1/Reshape_1:0\", shape=(None, 64, 64), dtype=int32)\n",
      "combined= Tensor(\"transformer/transfomer_decoder_12/Minimum:0\", shape=(None, 64, 64), dtype=int32)\n",
      "None\n",
      "     35/Unknown - 60s 2s/step - loss: 9.9603"
     ]
    },
    {
     "ename": "KeyboardInterrupt",
     "evalue": "",
     "output_type": "error",
     "traceback": [
      "\u001b[0;31m---------------------------------------------------------------------------\u001b[0m",
      "\u001b[0;31mKeyboardInterrupt\u001b[0m                         Traceback (most recent call last)",
      "Cell \u001b[0;32mIn[81], line 1\u001b[0m\n\u001b[0;32m----> 1\u001b[0m history \u001b[38;5;241m=\u001b[39m \u001b[43mtransformer\u001b[49m\u001b[38;5;241;43m.\u001b[39;49m\u001b[43mfit\u001b[49m\u001b[43m(\u001b[49m\n\u001b[1;32m      2\u001b[0m \u001b[43m    \u001b[49m\u001b[43mtrain_dataset\u001b[49m\u001b[43m,\u001b[49m\n\u001b[1;32m      3\u001b[0m \u001b[43m    \u001b[49m\u001b[43mvalidation_data\u001b[49m\u001b[38;5;241;43m=\u001b[39;49m\u001b[43mval_dataset\u001b[49m\u001b[43m,\u001b[49m\n\u001b[1;32m      4\u001b[0m \u001b[43m    \u001b[49m\u001b[43mepochs\u001b[49m\u001b[38;5;241;43m=\u001b[39;49m\u001b[38;5;241;43m2\u001b[39;49m\u001b[43m)\u001b[49m\n",
      "File \u001b[0;32m/opt/anaconda3/envs/tf/lib/python3.9/site-packages/keras/src/utils/traceback_utils.py:65\u001b[0m, in \u001b[0;36mfilter_traceback.<locals>.error_handler\u001b[0;34m(*args, **kwargs)\u001b[0m\n\u001b[1;32m     63\u001b[0m filtered_tb \u001b[38;5;241m=\u001b[39m \u001b[38;5;28;01mNone\u001b[39;00m\n\u001b[1;32m     64\u001b[0m \u001b[38;5;28;01mtry\u001b[39;00m:\n\u001b[0;32m---> 65\u001b[0m     \u001b[38;5;28;01mreturn\u001b[39;00m \u001b[43mfn\u001b[49m\u001b[43m(\u001b[49m\u001b[38;5;241;43m*\u001b[39;49m\u001b[43margs\u001b[49m\u001b[43m,\u001b[49m\u001b[43m \u001b[49m\u001b[38;5;241;43m*\u001b[39;49m\u001b[38;5;241;43m*\u001b[39;49m\u001b[43mkwargs\u001b[49m\u001b[43m)\u001b[49m\n\u001b[1;32m     66\u001b[0m \u001b[38;5;28;01mexcept\u001b[39;00m \u001b[38;5;167;01mException\u001b[39;00m \u001b[38;5;28;01mas\u001b[39;00m e:\n\u001b[1;32m     67\u001b[0m     filtered_tb \u001b[38;5;241m=\u001b[39m _process_traceback_frames(e\u001b[38;5;241m.\u001b[39m__traceback__)\n",
      "File \u001b[0;32m/opt/anaconda3/envs/tf/lib/python3.9/site-packages/keras/src/engine/training.py:1783\u001b[0m, in \u001b[0;36mModel.fit\u001b[0;34m(self, x, y, batch_size, epochs, verbose, callbacks, validation_split, validation_data, shuffle, class_weight, sample_weight, initial_epoch, steps_per_epoch, validation_steps, validation_batch_size, validation_freq, max_queue_size, workers, use_multiprocessing)\u001b[0m\n\u001b[1;32m   1775\u001b[0m \u001b[38;5;28;01mwith\u001b[39;00m tf\u001b[38;5;241m.\u001b[39mprofiler\u001b[38;5;241m.\u001b[39mexperimental\u001b[38;5;241m.\u001b[39mTrace(\n\u001b[1;32m   1776\u001b[0m     \u001b[38;5;124m\"\u001b[39m\u001b[38;5;124mtrain\u001b[39m\u001b[38;5;124m\"\u001b[39m,\n\u001b[1;32m   1777\u001b[0m     epoch_num\u001b[38;5;241m=\u001b[39mepoch,\n\u001b[0;32m   (...)\u001b[0m\n\u001b[1;32m   1780\u001b[0m     _r\u001b[38;5;241m=\u001b[39m\u001b[38;5;241m1\u001b[39m,\n\u001b[1;32m   1781\u001b[0m ):\n\u001b[1;32m   1782\u001b[0m     callbacks\u001b[38;5;241m.\u001b[39mon_train_batch_begin(step)\n\u001b[0;32m-> 1783\u001b[0m     tmp_logs \u001b[38;5;241m=\u001b[39m \u001b[38;5;28;43mself\u001b[39;49m\u001b[38;5;241;43m.\u001b[39;49m\u001b[43mtrain_function\u001b[49m\u001b[43m(\u001b[49m\u001b[43miterator\u001b[49m\u001b[43m)\u001b[49m\n\u001b[1;32m   1784\u001b[0m     \u001b[38;5;28;01mif\u001b[39;00m data_handler\u001b[38;5;241m.\u001b[39mshould_sync:\n\u001b[1;32m   1785\u001b[0m         context\u001b[38;5;241m.\u001b[39masync_wait()\n",
      "File \u001b[0;32m/opt/anaconda3/envs/tf/lib/python3.9/site-packages/tensorflow/python/util/traceback_utils.py:150\u001b[0m, in \u001b[0;36mfilter_traceback.<locals>.error_handler\u001b[0;34m(*args, **kwargs)\u001b[0m\n\u001b[1;32m    148\u001b[0m filtered_tb \u001b[38;5;241m=\u001b[39m \u001b[38;5;28;01mNone\u001b[39;00m\n\u001b[1;32m    149\u001b[0m \u001b[38;5;28;01mtry\u001b[39;00m:\n\u001b[0;32m--> 150\u001b[0m   \u001b[38;5;28;01mreturn\u001b[39;00m \u001b[43mfn\u001b[49m\u001b[43m(\u001b[49m\u001b[38;5;241;43m*\u001b[39;49m\u001b[43margs\u001b[49m\u001b[43m,\u001b[49m\u001b[43m \u001b[49m\u001b[38;5;241;43m*\u001b[39;49m\u001b[38;5;241;43m*\u001b[39;49m\u001b[43mkwargs\u001b[49m\u001b[43m)\u001b[49m\n\u001b[1;32m    151\u001b[0m \u001b[38;5;28;01mexcept\u001b[39;00m \u001b[38;5;167;01mException\u001b[39;00m \u001b[38;5;28;01mas\u001b[39;00m e:\n\u001b[1;32m    152\u001b[0m   filtered_tb \u001b[38;5;241m=\u001b[39m _process_traceback_frames(e\u001b[38;5;241m.\u001b[39m__traceback__)\n",
      "File \u001b[0;32m/opt/anaconda3/envs/tf/lib/python3.9/site-packages/tensorflow/python/eager/polymorphic_function/polymorphic_function.py:831\u001b[0m, in \u001b[0;36mFunction.__call__\u001b[0;34m(self, *args, **kwds)\u001b[0m\n\u001b[1;32m    828\u001b[0m compiler \u001b[38;5;241m=\u001b[39m \u001b[38;5;124m\"\u001b[39m\u001b[38;5;124mxla\u001b[39m\u001b[38;5;124m\"\u001b[39m \u001b[38;5;28;01mif\u001b[39;00m \u001b[38;5;28mself\u001b[39m\u001b[38;5;241m.\u001b[39m_jit_compile \u001b[38;5;28;01melse\u001b[39;00m \u001b[38;5;124m\"\u001b[39m\u001b[38;5;124mnonXla\u001b[39m\u001b[38;5;124m\"\u001b[39m\n\u001b[1;32m    830\u001b[0m \u001b[38;5;28;01mwith\u001b[39;00m OptionalXlaContext(\u001b[38;5;28mself\u001b[39m\u001b[38;5;241m.\u001b[39m_jit_compile):\n\u001b[0;32m--> 831\u001b[0m   result \u001b[38;5;241m=\u001b[39m \u001b[38;5;28;43mself\u001b[39;49m\u001b[38;5;241;43m.\u001b[39;49m\u001b[43m_call\u001b[49m\u001b[43m(\u001b[49m\u001b[38;5;241;43m*\u001b[39;49m\u001b[43margs\u001b[49m\u001b[43m,\u001b[49m\u001b[43m \u001b[49m\u001b[38;5;241;43m*\u001b[39;49m\u001b[38;5;241;43m*\u001b[39;49m\u001b[43mkwds\u001b[49m\u001b[43m)\u001b[49m\n\u001b[1;32m    833\u001b[0m new_tracing_count \u001b[38;5;241m=\u001b[39m \u001b[38;5;28mself\u001b[39m\u001b[38;5;241m.\u001b[39mexperimental_get_tracing_count()\n\u001b[1;32m    834\u001b[0m without_tracing \u001b[38;5;241m=\u001b[39m (tracing_count \u001b[38;5;241m==\u001b[39m new_tracing_count)\n",
      "File \u001b[0;32m/opt/anaconda3/envs/tf/lib/python3.9/site-packages/tensorflow/python/eager/polymorphic_function/polymorphic_function.py:867\u001b[0m, in \u001b[0;36mFunction._call\u001b[0;34m(self, *args, **kwds)\u001b[0m\n\u001b[1;32m    864\u001b[0m   \u001b[38;5;28mself\u001b[39m\u001b[38;5;241m.\u001b[39m_lock\u001b[38;5;241m.\u001b[39mrelease()\n\u001b[1;32m    865\u001b[0m   \u001b[38;5;66;03m# In this case we have created variables on the first call, so we run the\u001b[39;00m\n\u001b[1;32m    866\u001b[0m   \u001b[38;5;66;03m# defunned version which is guaranteed to never create variables.\u001b[39;00m\n\u001b[0;32m--> 867\u001b[0m   \u001b[38;5;28;01mreturn\u001b[39;00m \u001b[43mtracing_compilation\u001b[49m\u001b[38;5;241;43m.\u001b[39;49m\u001b[43mcall_function\u001b[49m\u001b[43m(\u001b[49m\n\u001b[1;32m    868\u001b[0m \u001b[43m      \u001b[49m\u001b[43margs\u001b[49m\u001b[43m,\u001b[49m\u001b[43m \u001b[49m\u001b[43mkwds\u001b[49m\u001b[43m,\u001b[49m\u001b[43m \u001b[49m\u001b[38;5;28;43mself\u001b[39;49m\u001b[38;5;241;43m.\u001b[39;49m\u001b[43m_no_variable_creation_config\u001b[49m\n\u001b[1;32m    869\u001b[0m \u001b[43m  \u001b[49m\u001b[43m)\u001b[49m\n\u001b[1;32m    870\u001b[0m \u001b[38;5;28;01melif\u001b[39;00m \u001b[38;5;28mself\u001b[39m\u001b[38;5;241m.\u001b[39m_variable_creation_config \u001b[38;5;129;01mis\u001b[39;00m \u001b[38;5;129;01mnot\u001b[39;00m \u001b[38;5;28;01mNone\u001b[39;00m:\n\u001b[1;32m    871\u001b[0m   \u001b[38;5;66;03m# Release the lock early so that multiple threads can perform the call\u001b[39;00m\n\u001b[1;32m    872\u001b[0m   \u001b[38;5;66;03m# in parallel.\u001b[39;00m\n\u001b[1;32m    873\u001b[0m   \u001b[38;5;28mself\u001b[39m\u001b[38;5;241m.\u001b[39m_lock\u001b[38;5;241m.\u001b[39mrelease()\n",
      "File \u001b[0;32m/opt/anaconda3/envs/tf/lib/python3.9/site-packages/tensorflow/python/eager/polymorphic_function/tracing_compilation.py:139\u001b[0m, in \u001b[0;36mcall_function\u001b[0;34m(args, kwargs, tracing_options)\u001b[0m\n\u001b[1;32m    137\u001b[0m bound_args \u001b[38;5;241m=\u001b[39m function\u001b[38;5;241m.\u001b[39mfunction_type\u001b[38;5;241m.\u001b[39mbind(\u001b[38;5;241m*\u001b[39margs, \u001b[38;5;241m*\u001b[39m\u001b[38;5;241m*\u001b[39mkwargs)\n\u001b[1;32m    138\u001b[0m flat_inputs \u001b[38;5;241m=\u001b[39m function\u001b[38;5;241m.\u001b[39mfunction_type\u001b[38;5;241m.\u001b[39munpack_inputs(bound_args)\n\u001b[0;32m--> 139\u001b[0m \u001b[38;5;28;01mreturn\u001b[39;00m \u001b[43mfunction\u001b[49m\u001b[38;5;241;43m.\u001b[39;49m\u001b[43m_call_flat\u001b[49m\u001b[43m(\u001b[49m\u001b[43m  \u001b[49m\u001b[38;5;66;43;03m# pylint: disable=protected-access\u001b[39;49;00m\n\u001b[1;32m    140\u001b[0m \u001b[43m    \u001b[49m\u001b[43mflat_inputs\u001b[49m\u001b[43m,\u001b[49m\u001b[43m \u001b[49m\u001b[43mcaptured_inputs\u001b[49m\u001b[38;5;241;43m=\u001b[39;49m\u001b[43mfunction\u001b[49m\u001b[38;5;241;43m.\u001b[39;49m\u001b[43mcaptured_inputs\u001b[49m\n\u001b[1;32m    141\u001b[0m \u001b[43m\u001b[49m\u001b[43m)\u001b[49m\n",
      "File \u001b[0;32m/opt/anaconda3/envs/tf/lib/python3.9/site-packages/tensorflow/python/eager/polymorphic_function/concrete_function.py:1264\u001b[0m, in \u001b[0;36mConcreteFunction._call_flat\u001b[0;34m(self, tensor_inputs, captured_inputs)\u001b[0m\n\u001b[1;32m   1260\u001b[0m possible_gradient_type \u001b[38;5;241m=\u001b[39m gradients_util\u001b[38;5;241m.\u001b[39mPossibleTapeGradientTypes(args)\n\u001b[1;32m   1261\u001b[0m \u001b[38;5;28;01mif\u001b[39;00m (possible_gradient_type \u001b[38;5;241m==\u001b[39m gradients_util\u001b[38;5;241m.\u001b[39mPOSSIBLE_GRADIENT_TYPES_NONE\n\u001b[1;32m   1262\u001b[0m     \u001b[38;5;129;01mand\u001b[39;00m executing_eagerly):\n\u001b[1;32m   1263\u001b[0m   \u001b[38;5;66;03m# No tape is watching; skip to running the function.\u001b[39;00m\n\u001b[0;32m-> 1264\u001b[0m   \u001b[38;5;28;01mreturn\u001b[39;00m \u001b[38;5;28;43mself\u001b[39;49m\u001b[38;5;241;43m.\u001b[39;49m\u001b[43m_inference_function\u001b[49m\u001b[38;5;241;43m.\u001b[39;49m\u001b[43mflat_call\u001b[49m\u001b[43m(\u001b[49m\u001b[43margs\u001b[49m\u001b[43m)\u001b[49m\n\u001b[1;32m   1265\u001b[0m forward_backward \u001b[38;5;241m=\u001b[39m \u001b[38;5;28mself\u001b[39m\u001b[38;5;241m.\u001b[39m_select_forward_and_backward_functions(\n\u001b[1;32m   1266\u001b[0m     args,\n\u001b[1;32m   1267\u001b[0m     possible_gradient_type,\n\u001b[1;32m   1268\u001b[0m     executing_eagerly)\n\u001b[1;32m   1269\u001b[0m forward_function, args_with_tangents \u001b[38;5;241m=\u001b[39m forward_backward\u001b[38;5;241m.\u001b[39mforward()\n",
      "File \u001b[0;32m/opt/anaconda3/envs/tf/lib/python3.9/site-packages/tensorflow/python/eager/polymorphic_function/atomic_function.py:217\u001b[0m, in \u001b[0;36mAtomicFunction.flat_call\u001b[0;34m(self, args)\u001b[0m\n\u001b[1;32m    215\u001b[0m \u001b[38;5;28;01mdef\u001b[39;00m \u001b[38;5;21mflat_call\u001b[39m(\u001b[38;5;28mself\u001b[39m, args: Sequence[core\u001b[38;5;241m.\u001b[39mTensor]) \u001b[38;5;241m-\u001b[39m\u001b[38;5;241m>\u001b[39m Any:\n\u001b[1;32m    216\u001b[0m \u001b[38;5;250m  \u001b[39m\u001b[38;5;124;03m\"\"\"Calls with tensor inputs and returns the structured output.\"\"\"\u001b[39;00m\n\u001b[0;32m--> 217\u001b[0m   flat_outputs \u001b[38;5;241m=\u001b[39m \u001b[38;5;28;43mself\u001b[39;49m\u001b[43m(\u001b[49m\u001b[38;5;241;43m*\u001b[39;49m\u001b[43margs\u001b[49m\u001b[43m)\u001b[49m\n\u001b[1;32m    218\u001b[0m   \u001b[38;5;28;01mreturn\u001b[39;00m \u001b[38;5;28mself\u001b[39m\u001b[38;5;241m.\u001b[39mfunction_type\u001b[38;5;241m.\u001b[39mpack_output(flat_outputs)\n",
      "File \u001b[0;32m/opt/anaconda3/envs/tf/lib/python3.9/site-packages/tensorflow/python/eager/polymorphic_function/atomic_function.py:252\u001b[0m, in \u001b[0;36mAtomicFunction.__call__\u001b[0;34m(self, *args)\u001b[0m\n\u001b[1;32m    250\u001b[0m \u001b[38;5;28;01mwith\u001b[39;00m record\u001b[38;5;241m.\u001b[39mstop_recording():\n\u001b[1;32m    251\u001b[0m   \u001b[38;5;28;01mif\u001b[39;00m \u001b[38;5;28mself\u001b[39m\u001b[38;5;241m.\u001b[39m_bound_context\u001b[38;5;241m.\u001b[39mexecuting_eagerly():\n\u001b[0;32m--> 252\u001b[0m     outputs \u001b[38;5;241m=\u001b[39m \u001b[38;5;28;43mself\u001b[39;49m\u001b[38;5;241;43m.\u001b[39;49m\u001b[43m_bound_context\u001b[49m\u001b[38;5;241;43m.\u001b[39;49m\u001b[43mcall_function\u001b[49m\u001b[43m(\u001b[49m\n\u001b[1;32m    253\u001b[0m \u001b[43m        \u001b[49m\u001b[38;5;28;43mself\u001b[39;49m\u001b[38;5;241;43m.\u001b[39;49m\u001b[43mname\u001b[49m\u001b[43m,\u001b[49m\n\u001b[1;32m    254\u001b[0m \u001b[43m        \u001b[49m\u001b[38;5;28;43mlist\u001b[39;49m\u001b[43m(\u001b[49m\u001b[43margs\u001b[49m\u001b[43m)\u001b[49m\u001b[43m,\u001b[49m\n\u001b[1;32m    255\u001b[0m \u001b[43m        \u001b[49m\u001b[38;5;28;43mlen\u001b[39;49m\u001b[43m(\u001b[49m\u001b[38;5;28;43mself\u001b[39;49m\u001b[38;5;241;43m.\u001b[39;49m\u001b[43mfunction_type\u001b[49m\u001b[38;5;241;43m.\u001b[39;49m\u001b[43mflat_outputs\u001b[49m\u001b[43m)\u001b[49m\u001b[43m,\u001b[49m\n\u001b[1;32m    256\u001b[0m \u001b[43m    \u001b[49m\u001b[43m)\u001b[49m\n\u001b[1;32m    257\u001b[0m   \u001b[38;5;28;01melse\u001b[39;00m:\n\u001b[1;32m    258\u001b[0m     outputs \u001b[38;5;241m=\u001b[39m make_call_op_in_graph(\n\u001b[1;32m    259\u001b[0m         \u001b[38;5;28mself\u001b[39m,\n\u001b[1;32m    260\u001b[0m         \u001b[38;5;28mlist\u001b[39m(args),\n\u001b[1;32m    261\u001b[0m         \u001b[38;5;28mself\u001b[39m\u001b[38;5;241m.\u001b[39m_bound_context\u001b[38;5;241m.\u001b[39mfunction_call_options\u001b[38;5;241m.\u001b[39mas_attrs(),\n\u001b[1;32m    262\u001b[0m     )\n",
      "File \u001b[0;32m/opt/anaconda3/envs/tf/lib/python3.9/site-packages/tensorflow/python/eager/context.py:1479\u001b[0m, in \u001b[0;36mContext.call_function\u001b[0;34m(self, name, tensor_inputs, num_outputs)\u001b[0m\n\u001b[1;32m   1477\u001b[0m cancellation_context \u001b[38;5;241m=\u001b[39m cancellation\u001b[38;5;241m.\u001b[39mcontext()\n\u001b[1;32m   1478\u001b[0m \u001b[38;5;28;01mif\u001b[39;00m cancellation_context \u001b[38;5;129;01mis\u001b[39;00m \u001b[38;5;28;01mNone\u001b[39;00m:\n\u001b[0;32m-> 1479\u001b[0m   outputs \u001b[38;5;241m=\u001b[39m \u001b[43mexecute\u001b[49m\u001b[38;5;241;43m.\u001b[39;49m\u001b[43mexecute\u001b[49m\u001b[43m(\u001b[49m\n\u001b[1;32m   1480\u001b[0m \u001b[43m      \u001b[49m\u001b[43mname\u001b[49m\u001b[38;5;241;43m.\u001b[39;49m\u001b[43mdecode\u001b[49m\u001b[43m(\u001b[49m\u001b[38;5;124;43m\"\u001b[39;49m\u001b[38;5;124;43mutf-8\u001b[39;49m\u001b[38;5;124;43m\"\u001b[39;49m\u001b[43m)\u001b[49m\u001b[43m,\u001b[49m\n\u001b[1;32m   1481\u001b[0m \u001b[43m      \u001b[49m\u001b[43mnum_outputs\u001b[49m\u001b[38;5;241;43m=\u001b[39;49m\u001b[43mnum_outputs\u001b[49m\u001b[43m,\u001b[49m\n\u001b[1;32m   1482\u001b[0m \u001b[43m      \u001b[49m\u001b[43minputs\u001b[49m\u001b[38;5;241;43m=\u001b[39;49m\u001b[43mtensor_inputs\u001b[49m\u001b[43m,\u001b[49m\n\u001b[1;32m   1483\u001b[0m \u001b[43m      \u001b[49m\u001b[43mattrs\u001b[49m\u001b[38;5;241;43m=\u001b[39;49m\u001b[43mattrs\u001b[49m\u001b[43m,\u001b[49m\n\u001b[1;32m   1484\u001b[0m \u001b[43m      \u001b[49m\u001b[43mctx\u001b[49m\u001b[38;5;241;43m=\u001b[39;49m\u001b[38;5;28;43mself\u001b[39;49m\u001b[43m,\u001b[49m\n\u001b[1;32m   1485\u001b[0m \u001b[43m  \u001b[49m\u001b[43m)\u001b[49m\n\u001b[1;32m   1486\u001b[0m \u001b[38;5;28;01melse\u001b[39;00m:\n\u001b[1;32m   1487\u001b[0m   outputs \u001b[38;5;241m=\u001b[39m execute\u001b[38;5;241m.\u001b[39mexecute_with_cancellation(\n\u001b[1;32m   1488\u001b[0m       name\u001b[38;5;241m.\u001b[39mdecode(\u001b[38;5;124m\"\u001b[39m\u001b[38;5;124mutf-8\u001b[39m\u001b[38;5;124m\"\u001b[39m),\n\u001b[1;32m   1489\u001b[0m       num_outputs\u001b[38;5;241m=\u001b[39mnum_outputs,\n\u001b[0;32m   (...)\u001b[0m\n\u001b[1;32m   1493\u001b[0m       cancellation_manager\u001b[38;5;241m=\u001b[39mcancellation_context,\n\u001b[1;32m   1494\u001b[0m   )\n",
      "File \u001b[0;32m/opt/anaconda3/envs/tf/lib/python3.9/site-packages/tensorflow/python/eager/execute.py:60\u001b[0m, in \u001b[0;36mquick_execute\u001b[0;34m(op_name, num_outputs, inputs, attrs, ctx, name)\u001b[0m\n\u001b[1;32m     53\u001b[0m   \u001b[38;5;66;03m# Convert any objects of type core_types.Tensor to Tensor.\u001b[39;00m\n\u001b[1;32m     54\u001b[0m   inputs \u001b[38;5;241m=\u001b[39m [\n\u001b[1;32m     55\u001b[0m       tensor_conversion_registry\u001b[38;5;241m.\u001b[39mconvert(t)\n\u001b[1;32m     56\u001b[0m       \u001b[38;5;28;01mif\u001b[39;00m \u001b[38;5;28misinstance\u001b[39m(t, core_types\u001b[38;5;241m.\u001b[39mTensor)\n\u001b[1;32m     57\u001b[0m       \u001b[38;5;28;01melse\u001b[39;00m t\n\u001b[1;32m     58\u001b[0m       \u001b[38;5;28;01mfor\u001b[39;00m t \u001b[38;5;129;01min\u001b[39;00m inputs\n\u001b[1;32m     59\u001b[0m   ]\n\u001b[0;32m---> 60\u001b[0m   tensors \u001b[38;5;241m=\u001b[39m \u001b[43mpywrap_tfe\u001b[49m\u001b[38;5;241;43m.\u001b[39;49m\u001b[43mTFE_Py_Execute\u001b[49m\u001b[43m(\u001b[49m\u001b[43mctx\u001b[49m\u001b[38;5;241;43m.\u001b[39;49m\u001b[43m_handle\u001b[49m\u001b[43m,\u001b[49m\u001b[43m \u001b[49m\u001b[43mdevice_name\u001b[49m\u001b[43m,\u001b[49m\u001b[43m \u001b[49m\u001b[43mop_name\u001b[49m\u001b[43m,\u001b[49m\n\u001b[1;32m     61\u001b[0m \u001b[43m                                      \u001b[49m\u001b[43minputs\u001b[49m\u001b[43m,\u001b[49m\u001b[43m \u001b[49m\u001b[43mattrs\u001b[49m\u001b[43m,\u001b[49m\u001b[43m \u001b[49m\u001b[43mnum_outputs\u001b[49m\u001b[43m)\u001b[49m\n\u001b[1;32m     62\u001b[0m \u001b[38;5;28;01mexcept\u001b[39;00m core\u001b[38;5;241m.\u001b[39m_NotOkStatusException \u001b[38;5;28;01mas\u001b[39;00m e:\n\u001b[1;32m     63\u001b[0m   \u001b[38;5;28;01mif\u001b[39;00m name \u001b[38;5;129;01mis\u001b[39;00m \u001b[38;5;129;01mnot\u001b[39;00m \u001b[38;5;28;01mNone\u001b[39;00m:\n",
      "\u001b[0;31mKeyboardInterrupt\u001b[0m: "
     ]
    }
   ],
   "source": [
    "history = transformer.fit(\n",
    "    train_dataset,\n",
    "    validation_data=val_dataset,\n",
    "    epochs=2)"
   ]
  },
  {
   "cell_type": "code",
   "execution_count": null,
   "id": "e33753e0-f57a-47f5-9fb0-1bac8c03e4a5",
   "metadata": {},
   "outputs": [],
   "source": []
  }
 ],
 "metadata": {
  "kernelspec": {
   "display_name": "Python 3 (ipykernel)",
   "language": "python",
   "name": "python3"
  },
  "language_info": {
   "codemirror_mode": {
    "name": "ipython",
    "version": 3
   },
   "file_extension": ".py",
   "mimetype": "text/x-python",
   "name": "python",
   "nbconvert_exporter": "python",
   "pygments_lexer": "ipython3",
   "version": "3.9.18"
  },
  "toc": {
   "base_numbering": 1,
   "nav_menu": {},
   "number_sections": true,
   "sideBar": true,
   "skip_h1_title": false,
   "title_cell": "Table of Contents",
   "title_sidebar": "Contents",
   "toc_cell": false,
   "toc_position": {},
   "toc_section_display": true,
   "toc_window_display": false
  }
 },
 "nbformat": 4,
 "nbformat_minor": 5
}
